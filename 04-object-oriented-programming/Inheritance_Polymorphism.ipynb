{
 "cells": [
  {
   "cell_type": "markdown",
   "id": "57432212-22bb-4d8e-91ef-1aae1660cdbd",
   "metadata": {},
   "source": [
    "## Inheritance"
   ]
  },
  {
   "cell_type": "code",
   "execution_count": 1,
   "id": "9a76d685-20b6-4257-b7a7-e88957824657",
   "metadata": {},
   "outputs": [],
   "source": [
    "class Animal():\n",
    "    def __init__(self):\n",
    "        print('Animal Created')\n",
    "\n",
    "    def who_am_i(self):\n",
    "        print('I am an Animal')\n",
    "\n",
    "    def eat(self):\n",
    "        print('I am eating')"
   ]
  },
  {
   "cell_type": "code",
   "execution_count": 2,
   "id": "f00bce39-8988-4dcf-b868-94e201f600d5",
   "metadata": {},
   "outputs": [],
   "source": [
    "class Dog(Animal):\n",
    "    def __init__(self):\n",
    "        Animal.__init__(self)\n",
    "        print('Dog Created')\n",
    "\n",
    "    def who_am_i(self):\n",
    "        print('I am a dog')\n",
    "\n",
    "    def bark(self):\n",
    "        print('WHOOF!!')"
   ]
  },
  {
   "cell_type": "code",
   "execution_count": 3,
   "id": "e1dd40bd-6c82-4a93-9120-3ebbc57d887d",
   "metadata": {},
   "outputs": [
    {
     "name": "stdout",
     "output_type": "stream",
     "text": [
      "Animal Created\n"
     ]
    }
   ],
   "source": [
    "animal = Animal()"
   ]
  },
  {
   "cell_type": "code",
   "execution_count": 1,
   "id": "36384b36-8b72-472e-8897-d12dcc682151",
   "metadata": {},
   "outputs": [
    {
     "ename": "NameError",
     "evalue": "name 'animal' is not defined",
     "output_type": "error",
     "traceback": [
      "\u001b[1;31m---------------------------------------------------------------------------\u001b[0m",
      "\u001b[1;31mNameError\u001b[0m                                 Traceback (most recent call last)",
      "Cell \u001b[1;32mIn[1], line 1\u001b[0m\n\u001b[1;32m----> 1\u001b[0m animal\u001b[38;5;241m.\u001b[39mwho_am_i()\n",
      "\u001b[1;31mNameError\u001b[0m: name 'animal' is not defined"
     ]
    }
   ],
   "source": [
    "animal.who_am_i()"
   ]
  },
  {
   "cell_type": "code",
   "execution_count": 33,
   "id": "d77ef7dd-9fa7-4081-b830-a4fa75b782c7",
   "metadata": {},
   "outputs": [
    {
     "name": "stdout",
     "output_type": "stream",
     "text": [
      "I am eating\n"
     ]
    }
   ],
   "source": [
    "animal.eat()"
   ]
  },
  {
   "cell_type": "code",
   "execution_count": 6,
   "id": "942cb2a6-fc09-45bd-be78-590ca56de63d",
   "metadata": {},
   "outputs": [
    {
     "name": "stdout",
     "output_type": "stream",
     "text": [
      "Animal Created\n",
      "Dog Created\n"
     ]
    }
   ],
   "source": [
    "dog = Dog()"
   ]
  },
  {
   "cell_type": "code",
   "execution_count": 7,
   "id": "62087eee-a891-4375-91c3-dec829e41e42",
   "metadata": {},
   "outputs": [
    {
     "name": "stdout",
     "output_type": "stream",
     "text": [
      "I am a dog\n"
     ]
    }
   ],
   "source": [
    "dog.who_am_i()"
   ]
  },
  {
   "cell_type": "code",
   "execution_count": 8,
   "id": "63b10622-8c6f-4659-953d-636dcf1d5bf8",
   "metadata": {},
   "outputs": [
    {
     "name": "stdout",
     "output_type": "stream",
     "text": [
      "I am eating\n"
     ]
    }
   ],
   "source": [
    "dog.eat()"
   ]
  },
  {
   "cell_type": "code",
   "execution_count": 9,
   "id": "83dbd31a-d458-4114-95b0-938ce7f2e034",
   "metadata": {},
   "outputs": [
    {
     "name": "stdout",
     "output_type": "stream",
     "text": [
      "WHOOF!!\n"
     ]
    }
   ],
   "source": [
    "dog.bark()"
   ]
  },
  {
   "cell_type": "markdown",
   "id": "564653be-6f61-4908-b780-bcabfbbea964",
   "metadata": {},
   "source": [
    "## Polymorphism"
   ]
  },
  {
   "cell_type": "code",
   "execution_count": 10,
   "id": "36ff1d1a-c3bb-4d50-a53e-632fd92c7297",
   "metadata": {},
   "outputs": [],
   "source": [
    "class Animal():\n",
    "    def __init__(self, name):\n",
    "        self.name = name\n",
    "\n",
    "    def speak(self):\n",
    "        raise NotImplementedError('Subclass must implement this abstract method')"
   ]
  },
  {
   "cell_type": "code",
   "execution_count": 11,
   "id": "e81d49fd-c919-4039-aaf3-9b9bc91efe7a",
   "metadata": {},
   "outputs": [],
   "source": [
    "class Dog(Animal):\n",
    "    def speak(self):\n",
    "        print(self.name + 'says Whoof!!')"
   ]
  },
  {
   "cell_type": "code",
   "execution_count": 12,
   "id": "ad910c5a-dfd0-449d-af48-c0cc6df7fff1",
   "metadata": {},
   "outputs": [],
   "source": [
    "class Cat(Animal):\n",
    "    def speak(self):\n",
    "        print(self.name + 'says Meow!!')"
   ]
  },
  {
   "cell_type": "code",
   "execution_count": 13,
   "id": "c479a61f-e9b0-4128-9c17-ae18b3a14c20",
   "metadata": {},
   "outputs": [],
   "source": [
    "fred = Dog('Fred')"
   ]
  },
  {
   "cell_type": "code",
   "execution_count": 15,
   "id": "4d5dfffe-6779-4cc8-8ff8-76e6dcb44a20",
   "metadata": {},
   "outputs": [],
   "source": [
    "felix = Cat('Felix')"
   ]
  },
  {
   "cell_type": "code",
   "execution_count": 16,
   "id": "1f52fdf9-c604-4d78-ac05-a93837607540",
   "metadata": {},
   "outputs": [],
   "source": [
    "def pet_speak(pet):\n",
    "    pet.speak()"
   ]
  },
  {
   "cell_type": "code",
   "execution_count": 17,
   "id": "3e1cca65-bb87-48f7-a77f-933cfe242f28",
   "metadata": {},
   "outputs": [
    {
     "name": "stdout",
     "output_type": "stream",
     "text": [
      "Fredsays Whoof!!\n"
     ]
    }
   ],
   "source": [
    "pet_speak(fred)"
   ]
  },
  {
   "cell_type": "code",
   "execution_count": 18,
   "id": "3861baf8-a099-4e1f-bcad-f1a8cae837dc",
   "metadata": {},
   "outputs": [
    {
     "name": "stdout",
     "output_type": "stream",
     "text": [
      "Felixsays Meow!!\n"
     ]
    }
   ],
   "source": [
    "pet_speak(felix)"
   ]
  },
  {
   "cell_type": "markdown",
   "id": "0288bb05-8319-4732-8ae1-6fc187c5eaab",
   "metadata": {},
   "source": [
    "## Special (Magic/Dunder) Methods"
   ]
  },
  {
   "cell_type": "code",
   "execution_count": 2,
   "id": "d76077d9-6099-48b0-8b1b-e6b7c9932074",
   "metadata": {},
   "outputs": [],
   "source": [
    "class Book():\n",
    "    def __init__(self, title, author, pages):\n",
    "        self.title = title\n",
    "        self.author = author\n",
    "        self.pages = pages\n",
    "\n",
    "    def __str__(self):\n",
    "        return f'{self.title} by {self.author}'\n",
    "\n",
    "    def __len__(self):\n",
    "        return self.pages\n",
    "\n",
    "    def __del__(self):\n",
    "        print('The object has been deleted')"
   ]
  },
  {
   "cell_type": "code",
   "execution_count": 3,
   "id": "8d6b5eaa-8733-42dd-b385-3aa8f820c4b3",
   "metadata": {},
   "outputs": [],
   "source": [
    "my_book = Book('Data Structures', 'Harry Day', 200)"
   ]
  },
  {
   "cell_type": "code",
   "execution_count": 4,
   "id": "b0d9ac52-2856-48b2-a595-b3cece33cc26",
   "metadata": {},
   "outputs": [
    {
     "name": "stdout",
     "output_type": "stream",
     "text": [
      "Data Structures by Harry Day\n"
     ]
    }
   ],
   "source": [
    "print(my_book)"
   ]
  },
  {
   "cell_type": "code",
   "execution_count": 5,
   "id": "e70bfd7e-a2ba-4d57-989e-a5db9a64fdec",
   "metadata": {},
   "outputs": [
    {
     "data": {
      "text/plain": [
       "200"
      ]
     },
     "execution_count": 5,
     "metadata": {},
     "output_type": "execute_result"
    }
   ],
   "source": [
    "len(my_book)"
   ]
  },
  {
   "cell_type": "code",
   "execution_count": 6,
   "id": "c95a5147-c573-4d43-8b3e-b74657994b47",
   "metadata": {},
   "outputs": [
    {
     "name": "stdout",
     "output_type": "stream",
     "text": [
      "The object has been deleted\n"
     ]
    }
   ],
   "source": [
    "del(my_book)"
   ]
  },
  {
   "cell_type": "code",
   "execution_count": 7,
   "id": "c6938226-5621-46cb-a5a1-4627417b2afc",
   "metadata": {},
   "outputs": [
    {
     "ename": "NameError",
     "evalue": "name 'my_book' is not defined",
     "output_type": "error",
     "traceback": [
      "\u001b[1;31m---------------------------------------------------------------------------\u001b[0m",
      "\u001b[1;31mNameError\u001b[0m                                 Traceback (most recent call last)",
      "Cell \u001b[1;32mIn[7], line 1\u001b[0m\n\u001b[1;32m----> 1\u001b[0m my_book\n",
      "\u001b[1;31mNameError\u001b[0m: name 'my_book' is not defined"
     ]
    }
   ],
   "source": [
    "my_book"
   ]
  },
  {
   "cell_type": "code",
   "execution_count": null,
   "id": "a8bb7294-d142-4399-920b-92ca3d730c59",
   "metadata": {},
   "outputs": [],
   "source": []
  }
 ],
 "metadata": {
  "kernelspec": {
   "display_name": "Python 3 (ipykernel)",
   "language": "python",
   "name": "python3"
  },
  "language_info": {
   "codemirror_mode": {
    "name": "ipython",
    "version": 3
   },
   "file_extension": ".py",
   "mimetype": "text/x-python",
   "name": "python",
   "nbconvert_exporter": "python",
   "pygments_lexer": "ipython3",
   "version": "3.12.7"
  }
 },
 "nbformat": 4,
 "nbformat_minor": 5
}
