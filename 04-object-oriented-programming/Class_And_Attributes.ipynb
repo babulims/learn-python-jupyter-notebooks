{
 "cells": [
  {
   "cell_type": "markdown",
   "id": "ba57a447-04e7-4170-977a-d1e31605eed0",
   "metadata": {},
   "source": [
    "## Python Class and Attributes"
   ]
  },
  {
   "cell_type": "code",
   "execution_count": 12,
   "id": "d2501829-76ac-4eb5-a24f-51f9c8f06af3",
   "metadata": {},
   "outputs": [],
   "source": [
    "class MyClass():\n",
    "    def __init__(self,attrA,attrB):\n",
    "        self.attrA = attrA\n",
    "        self.attrB = attrB\n",
    "\n",
    "    def my_method(self, number):\n",
    "        print('attrA: {}'.format(self.attrA))\n",
    "        print('attrA: {}'.format(self.attrB))\n",
    "        print('My Number : {}'.format(number))"
   ]
  },
  {
   "cell_type": "code",
   "execution_count": 13,
   "id": "08cb7161-46b3-49aa-87ab-87534f8ff9e2",
   "metadata": {},
   "outputs": [],
   "source": [
    "testClass = MyClass('Hello','World')"
   ]
  },
  {
   "cell_type": "code",
   "execution_count": 14,
   "id": "43d7c0b7-9727-4584-9faf-a86ae603ef9a",
   "metadata": {},
   "outputs": [
    {
     "data": {
      "text/plain": [
       "'Hello'"
      ]
     },
     "execution_count": 14,
     "metadata": {},
     "output_type": "execute_result"
    }
   ],
   "source": [
    "testClass.attrA"
   ]
  },
  {
   "cell_type": "code",
   "execution_count": 15,
   "id": "5114f18d-9620-478e-aaa8-795653b6e796",
   "metadata": {},
   "outputs": [
    {
     "data": {
      "text/plain": [
       "'World'"
      ]
     },
     "execution_count": 15,
     "metadata": {},
     "output_type": "execute_result"
    }
   ],
   "source": [
    "testClass.attrB"
   ]
  },
  {
   "cell_type": "code",
   "execution_count": 16,
   "id": "3c906095-ce71-4206-bc5a-eaf6ada7bd71",
   "metadata": {},
   "outputs": [
    {
     "data": {
      "text/plain": [
       "__main__.MyClass"
      ]
     },
     "execution_count": 16,
     "metadata": {},
     "output_type": "execute_result"
    }
   ],
   "source": [
    "type(testClass)"
   ]
  },
  {
   "cell_type": "code",
   "execution_count": 17,
   "id": "ad8c9042-e9d2-4e28-97b3-69d4581eacb9",
   "metadata": {},
   "outputs": [
    {
     "name": "stdout",
     "output_type": "stream",
     "text": [
      "attrA: Hello\n",
      "attrA: World\n",
      "My Number : 123\n"
     ]
    }
   ],
   "source": [
    "testClass.my_method(123)"
   ]
  },
  {
   "cell_type": "code",
   "execution_count": null,
   "id": "2f86efcb-2189-42d4-942d-1529519c32bb",
   "metadata": {},
   "outputs": [],
   "source": []
  }
 ],
 "metadata": {
  "kernelspec": {
   "display_name": "Python 3 (ipykernel)",
   "language": "python",
   "name": "python3"
  },
  "language_info": {
   "codemirror_mode": {
    "name": "ipython",
    "version": 3
   },
   "file_extension": ".py",
   "mimetype": "text/x-python",
   "name": "python",
   "nbconvert_exporter": "python",
   "pygments_lexer": "ipython3",
   "version": "3.12.7"
  }
 },
 "nbformat": 4,
 "nbformat_minor": 5
}
