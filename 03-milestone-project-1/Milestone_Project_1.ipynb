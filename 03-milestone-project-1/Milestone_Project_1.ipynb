{
 "cells": [
  {
   "cell_type": "markdown",
   "id": "2262c6c3-2765-4293-9ffb-40e9eaf5c761",
   "metadata": {},
   "source": [
    "## Basic User Interactions"
   ]
  },
  {
   "cell_type": "code",
   "execution_count": 52,
   "id": "c1d49a9a-9601-479d-8b2b-2b0586e0e472",
   "metadata": {},
   "outputs": [],
   "source": [
    "def display(row1, row2, row3):\n",
    "    print(row1)\n",
    "    print(row2)\n",
    "    print(row3)"
   ]
  },
  {
   "cell_type": "code",
   "execution_count": 53,
   "id": "8ee98458-b136-4fc8-8e85-ed7a002a396b",
   "metadata": {},
   "outputs": [
    {
     "name": "stdout",
     "output_type": "stream",
     "text": [
      "[' ', ' ', ' ']\n",
      "[' ', ' ', ' ']\n",
      "[' ', ' ', ' ']\n"
     ]
    }
   ],
   "source": [
    "row1 = [' ', ' ', ' ']\n",
    "row2 = [' ', ' ', ' ']\n",
    "row3 = [' ', ' ', ' ']\n",
    "\n",
    "display(row1,row2,row3)"
   ]
  },
  {
   "cell_type": "code",
   "execution_count": 54,
   "id": "d25fcbf5-7326-4c5b-8ed3-96b6dd604d4e",
   "metadata": {},
   "outputs": [],
   "source": [
    "gamelist = ['0', '1', '2']\n",
    "\n",
    "def display_game(gamelist):\n",
    "    print('Here is the current list: ')\n",
    "    print(gamelist)"
   ]
  },
  {
   "cell_type": "code",
   "execution_count": 55,
   "id": "026570ae-7d6f-434e-afdf-1cfe214b73ad",
   "metadata": {},
   "outputs": [
    {
     "name": "stdout",
     "output_type": "stream",
     "text": [
      "Here is the current list: \n",
      "['0', '1', '2']\n"
     ]
    }
   ],
   "source": [
    "display_game(gamelist)"
   ]
  },
  {
   "cell_type": "code",
   "execution_count": 56,
   "id": "1def93c9-8512-48d8-9291-745df68f7b6d",
   "metadata": {},
   "outputs": [],
   "source": [
    "def position_choice():\n",
    "    choice = 'Wrong'\n",
    "\n",
    "    while choice not in ['0', '1', '2']:\n",
    "        choice = input(\"Please enter the index you want to choose ('0', '1', '2'): \")\n",
    "        if choice not in ['0','1','2']:\n",
    "            print(\"Sorry the input is not correct, please select from ('0','1','2')\")\n",
    "\n",
    "    return int(choice)"
   ]
  },
  {
   "cell_type": "code",
   "execution_count": 57,
   "id": "ecdb30ca-7037-4f81-9a52-f4e7b6a15949",
   "metadata": {},
   "outputs": [
    {
     "name": "stdin",
     "output_type": "stream",
     "text": [
      "Please enter the index you want to choose ('0', '1', '2'):  0\n"
     ]
    },
    {
     "data": {
      "text/plain": [
       "0"
      ]
     },
     "execution_count": 57,
     "metadata": {},
     "output_type": "execute_result"
    }
   ],
   "source": [
    "position_choice()"
   ]
  },
  {
   "cell_type": "code",
   "execution_count": 58,
   "id": "b34d6492-9988-4b82-8450-fe6c5562e00e",
   "metadata": {},
   "outputs": [],
   "source": [
    "def replacement_choice(gamelist, position):\n",
    "    user_replacement = input(\"Please enter a value to replace with: \")\n",
    "    gamelist[position] = user_replacement\n",
    "\n",
    "    return gamelist\n",
    "    "
   ]
  },
  {
   "cell_type": "code",
   "execution_count": 59,
   "id": "517b835e-dab6-414b-8610-fc8249e2ed1f",
   "metadata": {},
   "outputs": [
    {
     "data": {
      "text/plain": [
       "['0', '1', '2']"
      ]
     },
     "execution_count": 59,
     "metadata": {},
     "output_type": "execute_result"
    }
   ],
   "source": [
    "gamelist"
   ]
  },
  {
   "cell_type": "code",
   "execution_count": 60,
   "id": "c50d0591-62cd-4559-b057-95587e9bd973",
   "metadata": {},
   "outputs": [
    {
     "name": "stdin",
     "output_type": "stream",
     "text": [
      "Please enter the index you want to choose ('0', '1', '2'):  1\n"
     ]
    }
   ],
   "source": [
    "position = position_choice()"
   ]
  },
  {
   "cell_type": "code",
   "execution_count": 61,
   "id": "2941ad84-d797-489c-a165-ac6a0c0d6323",
   "metadata": {},
   "outputs": [
    {
     "data": {
      "text/plain": [
       "1"
      ]
     },
     "execution_count": 61,
     "metadata": {},
     "output_type": "execute_result"
    }
   ],
   "source": [
    "position"
   ]
  },
  {
   "cell_type": "code",
   "execution_count": 62,
   "id": "cce9f2bb-ac02-42ab-b2ee-b21ebb0bf74b",
   "metadata": {},
   "outputs": [
    {
     "name": "stdin",
     "output_type": "stream",
     "text": [
      "Please enter a value to replace with:  4546\n"
     ]
    },
    {
     "data": {
      "text/plain": [
       "['0', '4546', '2']"
      ]
     },
     "execution_count": 62,
     "metadata": {},
     "output_type": "execute_result"
    }
   ],
   "source": [
    "replacement_choice(gamelist, position)"
   ]
  },
  {
   "cell_type": "code",
   "execution_count": 63,
   "id": "6da54875-f7f1-424e-b14a-8e738fcbd5a9",
   "metadata": {},
   "outputs": [],
   "source": [
    "def gameon_choice():\n",
    "    choice = 'Wrong'\n",
    "\n",
    "    while choice not in ['Y', 'N']:\n",
    "        choice = input(\"Want to keep Playing? ('Y', 'N') \")\n",
    "        if choice not in ['Y', 'N']:\n",
    "            print(\"Incorrect Input, please select from ('Y','N')\")\n",
    "\n",
    "    return choice == 'Y'"
   ]
  },
  {
   "cell_type": "code",
   "execution_count": 64,
   "id": "5b07814d-7cb4-44d0-994c-cebc5f5b1694",
   "metadata": {},
   "outputs": [
    {
     "name": "stdin",
     "output_type": "stream",
     "text": [
      "Want to keep Playing? ('Y', 'N')  N\n"
     ]
    },
    {
     "data": {
      "text/plain": [
       "False"
      ]
     },
     "execution_count": 64,
     "metadata": {},
     "output_type": "execute_result"
    }
   ],
   "source": [
    "gameon_choice()"
   ]
  },
  {
   "cell_type": "code",
   "execution_count": 65,
   "id": "022e7ecf-d34d-484c-b9c6-03aea5b183bf",
   "metadata": {},
   "outputs": [
    {
     "name": "stdout",
     "output_type": "stream",
     "text": [
      "Here is the current list: \n",
      "['0', '1', '2']\n"
     ]
    },
    {
     "name": "stdin",
     "output_type": "stream",
     "text": [
      "Please enter the index you want to choose ('0', '1', '2'):  0\n",
      "Please enter a value to replace with:  My Val\n"
     ]
    },
    {
     "name": "stdout",
     "output_type": "stream",
     "text": [
      "['My Val', '1', '2']\n"
     ]
    },
    {
     "name": "stdin",
     "output_type": "stream",
     "text": [
      "Want to keep Playing? ('Y', 'N')  Y\n"
     ]
    },
    {
     "name": "stdout",
     "output_type": "stream",
     "text": [
      "Here is the current list: \n",
      "['My Val', '1', '2']\n"
     ]
    },
    {
     "name": "stdin",
     "output_type": "stream",
     "text": [
      "Please enter the index you want to choose ('0', '1', '2'):  1\n",
      "Please enter a value to replace with:  New Val\n"
     ]
    },
    {
     "name": "stdout",
     "output_type": "stream",
     "text": [
      "['My Val', 'New Val', '2']\n"
     ]
    },
    {
     "name": "stdin",
     "output_type": "stream",
     "text": [
      "Want to keep Playing? ('Y', 'N')  0\n"
     ]
    },
    {
     "name": "stdout",
     "output_type": "stream",
     "text": [
      "Incorrect Input, please select from ('Y','N')\n"
     ]
    },
    {
     "name": "stdin",
     "output_type": "stream",
     "text": [
      "Want to keep Playing? ('Y', 'N')  Babuli\n"
     ]
    },
    {
     "name": "stdout",
     "output_type": "stream",
     "text": [
      "Incorrect Input, please select from ('Y','N')\n"
     ]
    },
    {
     "name": "stdin",
     "output_type": "stream",
     "text": [
      "Want to keep Playing? ('Y', 'N')  Y\n"
     ]
    },
    {
     "name": "stdout",
     "output_type": "stream",
     "text": [
      "Here is the current list: \n",
      "['My Val', 'New Val', '2']\n"
     ]
    },
    {
     "name": "stdin",
     "output_type": "stream",
     "text": [
      "Please enter the index you want to choose ('0', '1', '2'):  0\n",
      "Please enter a value to replace with:  Babuli\n"
     ]
    },
    {
     "name": "stdout",
     "output_type": "stream",
     "text": [
      "['Babuli', 'New Val', '2']\n"
     ]
    },
    {
     "name": "stdin",
     "output_type": "stream",
     "text": [
      "Want to keep Playing? ('Y', 'N')  N\n"
     ]
    }
   ],
   "source": [
    "game_on = True\n",
    "gamelist = ['0', '1', '2']\n",
    "\n",
    "while game_on:\n",
    "    display_game(gamelist)\n",
    "    position = position_choice()\n",
    "    gamelist = replacement_choice(gamelist, position)\n",
    "    print(gamelist)\n",
    "    game_on = gameon_choice()\n"
   ]
  },
  {
   "cell_type": "markdown",
   "id": "7ea23b20-7122-42de-b4fc-5efaa38f12e4",
   "metadata": {},
   "source": [
    "## Tic Tac Toe Game"
   ]
  },
  {
   "cell_type": "code",
   "execution_count": 85,
   "id": "5f0034c4-5298-4b42-8ee7-95a738031d31",
   "metadata": {},
   "outputs": [],
   "source": [
    "from IPython.display import clear_output\n",
    "\n",
    "def display_board(board):\n",
    "    clear_output()\n",
    "    print(board[1] + '|' + board[2] + '|' + board[3])\n",
    "    print('-----')\n",
    "    print(board[4] + '|' + board[5] + '|' + board[6])\n",
    "    print('-----')\n",
    "    print(board[7] + '|' + board[8] + '|' + board[9])   \n",
    "        "
   ]
  },
  {
   "cell_type": "code",
   "execution_count": null,
   "id": "fd2decb1-aad2-4e80-8e17-72a2be7a76b5",
   "metadata": {},
   "outputs": [],
   "source": []
  }
 ],
 "metadata": {
  "kernelspec": {
   "display_name": "Python 3 (ipykernel)",
   "language": "python",
   "name": "python3"
  },
  "language_info": {
   "codemirror_mode": {
    "name": "ipython",
    "version": 3
   },
   "file_extension": ".py",
   "mimetype": "text/x-python",
   "name": "python",
   "nbconvert_exporter": "python",
   "pygments_lexer": "ipython3",
   "version": "3.12.7"
  }
 },
 "nbformat": 4,
 "nbformat_minor": 5
}
