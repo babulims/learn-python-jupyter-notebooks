{
 "cells": [
  {
   "cell_type": "markdown",
   "id": "4eb9ae55-7abb-4fb3-b940-f234dc5c9cf0",
   "metadata": {},
   "source": [
    "## Pandas Examples"
   ]
  },
  {
   "cell_type": "code",
   "execution_count": 1,
   "id": "8e6b5190-432e-480f-8a9a-505897bb882f",
   "metadata": {},
   "outputs": [],
   "source": [
    "import numpy as np\n",
    "import pandas as pd"
   ]
  },
  {
   "cell_type": "code",
   "execution_count": 2,
   "id": "bbfc1662-b426-4949-b121-6ec4decd14f4",
   "metadata": {},
   "outputs": [
    {
     "name": "stdout",
     "output_type": "stream",
     "text": [
      "   temperature  activity\n",
      "0            0         3\n",
      "1           10         7\n",
      "2           30        14\n",
      "3           40        15\n",
      "4           20         9\n"
     ]
    }
   ],
   "source": [
    "my_data = np.array([[0,3],[10,7], [30,14],[40,15],[20,9]])\n",
    "\n",
    "my_columns = ['temperature', 'activity']\n",
    "\n",
    "my_dataframe = pd.DataFrame(data=my_data, columns=my_columns)\n",
    "\n",
    "print(my_dataframe)"
   ]
  },
  {
   "cell_type": "code",
   "execution_count": 3,
   "id": "b7fc85f5-5116-4d3d-803d-de3ff3d0fc05",
   "metadata": {},
   "outputs": [
    {
     "data": {
      "text/plain": [
       "0     3\n",
       "1     7\n",
       "2    14\n",
       "3    15\n",
       "4     9\n",
       "Name: activity, dtype: int32"
      ]
     },
     "execution_count": 3,
     "metadata": {},
     "output_type": "execute_result"
    }
   ],
   "source": [
    "my_dataframe['activity']"
   ]
  },
  {
   "cell_type": "code",
   "execution_count": 4,
   "id": "e41d671b-08e4-4a8a-b38c-8bea5f21a587",
   "metadata": {},
   "outputs": [
    {
     "name": "stdout",
     "output_type": "stream",
     "text": [
      "0     3\n",
      "1     7\n",
      "2    14\n",
      "3    15\n",
      "4     9\n",
      "Name: activity, dtype: int32\n"
     ]
    }
   ],
   "source": [
    "print(my_dataframe['activity'])"
   ]
  },
  {
   "cell_type": "code",
   "execution_count": 5,
   "id": "b497af3b-e518-43a9-90bf-c3344639fb49",
   "metadata": {},
   "outputs": [],
   "source": [
    "my_dataframe['adjusted'] = my_dataframe['activity'] + 2"
   ]
  },
  {
   "cell_type": "code",
   "execution_count": 6,
   "id": "4ed4b8b9-3731-43be-b4fe-c7244fcf8be8",
   "metadata": {},
   "outputs": [
    {
     "name": "stdout",
     "output_type": "stream",
     "text": [
      "   temperature  activity  adjusted\n",
      "0            0         3         5\n",
      "1           10         7         9\n",
      "2           30        14        16\n",
      "3           40        15        17\n",
      "4           20         9        11\n"
     ]
    }
   ],
   "source": [
    "print(my_dataframe)"
   ]
  },
  {
   "cell_type": "code",
   "execution_count": 7,
   "id": "37583a15-d486-43ff-8726-5eae39592741",
   "metadata": {},
   "outputs": [
    {
     "data": {
      "text/html": [
       "<div>\n",
       "<style scoped>\n",
       "    .dataframe tbody tr th:only-of-type {\n",
       "        vertical-align: middle;\n",
       "    }\n",
       "\n",
       "    .dataframe tbody tr th {\n",
       "        vertical-align: top;\n",
       "    }\n",
       "\n",
       "    .dataframe thead th {\n",
       "        text-align: right;\n",
       "    }\n",
       "</style>\n",
       "<table border=\"1\" class=\"dataframe\">\n",
       "  <thead>\n",
       "    <tr style=\"text-align: right;\">\n",
       "      <th></th>\n",
       "      <th>temperature</th>\n",
       "      <th>activity</th>\n",
       "      <th>adjusted</th>\n",
       "    </tr>\n",
       "  </thead>\n",
       "  <tbody>\n",
       "    <tr>\n",
       "      <th>0</th>\n",
       "      <td>0</td>\n",
       "      <td>3</td>\n",
       "      <td>5</td>\n",
       "    </tr>\n",
       "    <tr>\n",
       "      <th>1</th>\n",
       "      <td>10</td>\n",
       "      <td>7</td>\n",
       "      <td>9</td>\n",
       "    </tr>\n",
       "    <tr>\n",
       "      <th>2</th>\n",
       "      <td>30</td>\n",
       "      <td>14</td>\n",
       "      <td>16</td>\n",
       "    </tr>\n",
       "  </tbody>\n",
       "</table>\n",
       "</div>"
      ],
      "text/plain": [
       "   temperature  activity  adjusted\n",
       "0            0         3         5\n",
       "1           10         7         9\n",
       "2           30        14        16"
      ]
     },
     "execution_count": 7,
     "metadata": {},
     "output_type": "execute_result"
    }
   ],
   "source": [
    "my_dataframe.head(3)"
   ]
  },
  {
   "cell_type": "code",
   "execution_count": 8,
   "id": "94a30be5-5e1e-47e6-a6ca-bfe6434a2330",
   "metadata": {},
   "outputs": [
    {
     "data": {
      "text/html": [
       "<div>\n",
       "<style scoped>\n",
       "    .dataframe tbody tr th:only-of-type {\n",
       "        vertical-align: middle;\n",
       "    }\n",
       "\n",
       "    .dataframe tbody tr th {\n",
       "        vertical-align: top;\n",
       "    }\n",
       "\n",
       "    .dataframe thead th {\n",
       "        text-align: right;\n",
       "    }\n",
       "</style>\n",
       "<table border=\"1\" class=\"dataframe\">\n",
       "  <thead>\n",
       "    <tr style=\"text-align: right;\">\n",
       "      <th></th>\n",
       "      <th>temperature</th>\n",
       "      <th>activity</th>\n",
       "      <th>adjusted</th>\n",
       "    </tr>\n",
       "  </thead>\n",
       "  <tbody>\n",
       "    <tr>\n",
       "      <th>1</th>\n",
       "      <td>10</td>\n",
       "      <td>7</td>\n",
       "      <td>9</td>\n",
       "    </tr>\n",
       "    <tr>\n",
       "      <th>2</th>\n",
       "      <td>30</td>\n",
       "      <td>14</td>\n",
       "      <td>16</td>\n",
       "    </tr>\n",
       "    <tr>\n",
       "      <th>3</th>\n",
       "      <td>40</td>\n",
       "      <td>15</td>\n",
       "      <td>17</td>\n",
       "    </tr>\n",
       "  </tbody>\n",
       "</table>\n",
       "</div>"
      ],
      "text/plain": [
       "   temperature  activity  adjusted\n",
       "1           10         7         9\n",
       "2           30        14        16\n",
       "3           40        15        17"
      ]
     },
     "execution_count": 8,
     "metadata": {},
     "output_type": "execute_result"
    }
   ],
   "source": [
    "my_dataframe[1:4]"
   ]
  },
  {
   "cell_type": "code",
   "execution_count": 9,
   "id": "725ec9b7-f050-4e0b-acd5-45a508a77f6a",
   "metadata": {},
   "outputs": [
    {
     "data": {
      "text/html": [
       "<div>\n",
       "<style scoped>\n",
       "    .dataframe tbody tr th:only-of-type {\n",
       "        vertical-align: middle;\n",
       "    }\n",
       "\n",
       "    .dataframe tbody tr th {\n",
       "        vertical-align: top;\n",
       "    }\n",
       "\n",
       "    .dataframe thead th {\n",
       "        text-align: right;\n",
       "    }\n",
       "</style>\n",
       "<table border=\"1\" class=\"dataframe\">\n",
       "  <thead>\n",
       "    <tr style=\"text-align: right;\">\n",
       "      <th></th>\n",
       "      <th>temperature</th>\n",
       "      <th>activity</th>\n",
       "      <th>adjusted</th>\n",
       "    </tr>\n",
       "  </thead>\n",
       "  <tbody>\n",
       "    <tr>\n",
       "      <th>2</th>\n",
       "      <td>30</td>\n",
       "      <td>14</td>\n",
       "      <td>16</td>\n",
       "    </tr>\n",
       "  </tbody>\n",
       "</table>\n",
       "</div>"
      ],
      "text/plain": [
       "   temperature  activity  adjusted\n",
       "2           30        14        16"
      ]
     },
     "execution_count": 9,
     "metadata": {},
     "output_type": "execute_result"
    }
   ],
   "source": [
    "my_dataframe.iloc[[2]]"
   ]
  },
  {
   "cell_type": "code",
   "execution_count": 12,
   "id": "2c3e576c-ddfc-42fc-974a-ed2cd3e4a291",
   "metadata": {},
   "outputs": [],
   "source": [
    "new_columns = ['Eleanor', 'chidi', 'Tahani', 'Jason']\n",
    "\n",
    "new_data = np.random.randint(low=0, high=101, size=(3,4))"
   ]
  },
  {
   "cell_type": "code",
   "execution_count": 13,
   "id": "61dc32f1-e5b5-42dd-8f08-4bc9b9c929fa",
   "metadata": {},
   "outputs": [],
   "source": [
    "new_dataframe = pd.DataFrame(data=new_data, columns=new_columns)"
   ]
  },
  {
   "cell_type": "code",
   "execution_count": 14,
   "id": "3a7bdc18-68fc-4df2-a759-2a16f28c0616",
   "metadata": {},
   "outputs": [
    {
     "name": "stdout",
     "output_type": "stream",
     "text": [
      "   Eleanor  chidi  Tahani  Jason\n",
      "0       45      0      63      1\n",
      "1        8     35      45     54\n",
      "2       43      8      36     34\n"
     ]
    }
   ],
   "source": [
    "print(new_dataframe)"
   ]
  },
  {
   "cell_type": "code",
   "execution_count": 15,
   "id": "2a3ba661-4bd2-4c7b-b3fb-60c8de1b373c",
   "metadata": {},
   "outputs": [
    {
     "name": "stdout",
     "output_type": "stream",
     "text": [
      "   Eleanor  chidi  Tahani  Jason\n",
      "0       45      0      63      1\n",
      "1        8     35      45     54\n",
      "2       43      8      36     34\n"
     ]
    }
   ],
   "source": [
    "print(new_dataframe)"
   ]
  },
  {
   "cell_type": "code",
   "execution_count": 17,
   "id": "64c43800-7473-437b-8d7e-1aecfc2fc1c6",
   "metadata": {},
   "outputs": [
    {
     "data": {
      "text/plain": [
       "1    8\n",
       "Name: Eleanor, dtype: int32"
      ]
     },
     "execution_count": 17,
     "metadata": {},
     "output_type": "execute_result"
    }
   ],
   "source": [
    "new_dataframe.iloc[[1]]['Eleanor']"
   ]
  },
  {
   "cell_type": "code",
   "execution_count": 18,
   "id": "81be0409-5d26-4a62-a6f4-c594d3c2afaf",
   "metadata": {},
   "outputs": [],
   "source": [
    "new_dataframe['Janet'] = new_dataframe['Tahani'] + new_dataframe['Jason']"
   ]
  },
  {
   "cell_type": "code",
   "execution_count": 19,
   "id": "1d5d25f3-4af3-466e-a63f-cf929c42c7fa",
   "metadata": {},
   "outputs": [
    {
     "name": "stdout",
     "output_type": "stream",
     "text": [
      "   Eleanor  chidi  Tahani  Jason  Janet\n",
      "0       45      0      63      1     64\n",
      "1        8     35      45     54     99\n",
      "2       43      8      36     34     70\n"
     ]
    }
   ],
   "source": [
    "print(new_dataframe)"
   ]
  },
  {
   "cell_type": "code",
   "execution_count": 20,
   "id": "df68ca3d-3694-48dd-a3c2-9f31a313db64",
   "metadata": {},
   "outputs": [
    {
     "data": {
      "text/plain": [
       "8"
      ]
     },
     "execution_count": 20,
     "metadata": {},
     "output_type": "execute_result"
    }
   ],
   "source": [
    "new_dataframe['Eleanor'][1]"
   ]
  },
  {
   "cell_type": "code",
   "execution_count": null,
   "id": "8e886649-cfcb-4e1c-8c89-69d25fa8d4ce",
   "metadata": {},
   "outputs": [],
   "source": []
  }
 ],
 "metadata": {
  "kernelspec": {
   "display_name": "Python 3 (ipykernel)",
   "language": "python",
   "name": "python3"
  },
  "language_info": {
   "codemirror_mode": {
    "name": "ipython",
    "version": 3
   },
   "file_extension": ".py",
   "mimetype": "text/x-python",
   "name": "python",
   "nbconvert_exporter": "python",
   "pygments_lexer": "ipython3",
   "version": "3.12.7"
  }
 },
 "nbformat": 4,
 "nbformat_minor": 5
}
