{
 "cells": [
  {
   "cell_type": "markdown",
   "id": "94c167ad-52be-4409-a1be-63733a19745c",
   "metadata": {},
   "source": [
    "## NumPy Examples"
   ]
  },
  {
   "cell_type": "code",
   "execution_count": 1,
   "id": "1ae46124-c6e3-4897-8cbc-cfb09435e31a",
   "metadata": {},
   "outputs": [],
   "source": [
    "import numpy as np"
   ]
  },
  {
   "cell_type": "code",
   "execution_count": 2,
   "id": "34085202-16af-45d1-a3e9-93529b7bac02",
   "metadata": {},
   "outputs": [],
   "source": [
    "one_d_array = np.array([1.2, 1.4, 2.3, 2.4, 3.6, 4.3,5.1,2.8])"
   ]
  },
  {
   "cell_type": "code",
   "execution_count": 3,
   "id": "75015819-bdc2-4a5d-8081-2aa5255a5ce6",
   "metadata": {},
   "outputs": [
    {
     "data": {
      "text/plain": [
       "array([1.2, 1.4, 2.3, 2.4, 3.6, 4.3, 5.1, 2.8])"
      ]
     },
     "execution_count": 3,
     "metadata": {},
     "output_type": "execute_result"
    }
   ],
   "source": [
    "one_d_array"
   ]
  },
  {
   "cell_type": "code",
   "execution_count": 4,
   "id": "7a1540b8-cf32-449f-bdfa-cff314bf5242",
   "metadata": {},
   "outputs": [
    {
     "name": "stdout",
     "output_type": "stream",
     "text": [
      "[1.2 1.4 2.3 2.4 3.6 4.3 5.1 2.8]\n"
     ]
    }
   ],
   "source": [
    "print(one_d_array)"
   ]
  },
  {
   "cell_type": "code",
   "execution_count": 5,
   "id": "4fd19318-56ea-4274-9568-5b9fc72f1477",
   "metadata": {},
   "outputs": [],
   "source": [
    "two_d_array = np.array([[1.3,2.1], [2.1,4.5], [3.4,1.5]])"
   ]
  },
  {
   "cell_type": "code",
   "execution_count": 6,
   "id": "e92279fa-29d3-4041-b2e4-76ed8a5f4858",
   "metadata": {},
   "outputs": [
    {
     "name": "stdout",
     "output_type": "stream",
     "text": [
      "[[1.3 2.1]\n",
      " [2.1 4.5]\n",
      " [3.4 1.5]]\n"
     ]
    }
   ],
   "source": [
    "print(two_d_array)"
   ]
  },
  {
   "cell_type": "code",
   "execution_count": 7,
   "id": "38b7f6b3-65d4-460f-a5be-f0a5fd191a5d",
   "metadata": {},
   "outputs": [
    {
     "name": "stdout",
     "output_type": "stream",
     "text": [
      "[ 5  6  7  8  9 10 11]\n"
     ]
    }
   ],
   "source": [
    "seq_of_ints = np.arange(5,12)\n",
    "print(seq_of_ints)"
   ]
  },
  {
   "cell_type": "code",
   "execution_count": 8,
   "id": "4852921d-5aec-4c36-b80c-19c23da25b41",
   "metadata": {},
   "outputs": [],
   "source": [
    "rand_ints = np.random.randint(low=50, high=101, size=6)"
   ]
  },
  {
   "cell_type": "code",
   "execution_count": 9,
   "id": "5de4bf7d-8b8e-4d86-8d8a-7b51dc08163c",
   "metadata": {},
   "outputs": [
    {
     "name": "stdout",
     "output_type": "stream",
     "text": [
      "[50 77 94 83 57 65]\n"
     ]
    }
   ],
   "source": [
    "print(rand_ints)"
   ]
  },
  {
   "cell_type": "code",
   "execution_count": 10,
   "id": "844228aa-de18-46b0-8ab4-3148baa18e61",
   "metadata": {},
   "outputs": [],
   "source": [
    "rand_ints = np.random.randint(low=50, high=101, size=(6,))"
   ]
  },
  {
   "cell_type": "code",
   "execution_count": 11,
   "id": "2accff97-ba92-482d-8b98-89daef201aa3",
   "metadata": {},
   "outputs": [
    {
     "name": "stdout",
     "output_type": "stream",
     "text": [
      "[ 89  84  70  93  83 100]\n"
     ]
    }
   ],
   "source": [
    "print(rand_ints)"
   ]
  },
  {
   "cell_type": "code",
   "execution_count": 12,
   "id": "5fe60f12-c5a2-485c-b39d-0c943d7a890a",
   "metadata": {},
   "outputs": [],
   "source": [
    "rand_ints = np.random.randint(low=50, high=101, size=(6,10))"
   ]
  },
  {
   "cell_type": "code",
   "execution_count": 13,
   "id": "12518c76-8b90-4fa3-a1a3-664f3d22b362",
   "metadata": {},
   "outputs": [
    {
     "name": "stdout",
     "output_type": "stream",
     "text": [
      "[[98 98 60 58 97 67 60 58 67 69]\n",
      " [65 83 53 98 98 62 91 51 75 63]\n",
      " [87 68 85 82 99 86 61 88 52 87]\n",
      " [90 98 84 59 87 57 64 83 53 86]\n",
      " [81 54 66 70 98 53 60 92 52 90]\n",
      " [66 81 62 75 55 76 60 94 71 67]]\n"
     ]
    }
   ],
   "source": [
    "print(rand_ints)"
   ]
  },
  {
   "cell_type": "code",
   "execution_count": 14,
   "id": "c443d61d-7a33-4829-897f-777fce8a1fcd",
   "metadata": {},
   "outputs": [],
   "source": [
    "rand_floats_betn_0_1 = np.random.random()"
   ]
  },
  {
   "cell_type": "code",
   "execution_count": 15,
   "id": "9e3aa4ae-0965-4d96-b79d-f18bbe39033c",
   "metadata": {},
   "outputs": [
    {
     "name": "stdout",
     "output_type": "stream",
     "text": [
      "0.21272599264246472\n"
     ]
    }
   ],
   "source": [
    "print(rand_floats_betn_0_1)"
   ]
  },
  {
   "cell_type": "code",
   "execution_count": 16,
   "id": "9e9aad23-3c39-40d4-9de5-bb5088cf48a8",
   "metadata": {},
   "outputs": [],
   "source": [
    "rand_floats_betn_0_1 = np.random.random((6))"
   ]
  },
  {
   "cell_type": "code",
   "execution_count": 17,
   "id": "b0fff51a-2cd0-45aa-bc13-3ec7a3677cb5",
   "metadata": {},
   "outputs": [
    {
     "name": "stdout",
     "output_type": "stream",
     "text": [
      "[0.29013009 0.61028646 0.11509647 0.94193108 0.13234835 0.97897131]\n"
     ]
    }
   ],
   "source": [
    "print(rand_floats_betn_0_1)"
   ]
  },
  {
   "cell_type": "code",
   "execution_count": 18,
   "id": "654cb047-7bb4-4f63-85b9-b664e1b617a9",
   "metadata": {},
   "outputs": [],
   "source": [
    "rand_floats_betn_2_3= rand_floats_betn_0_1 + 2.0"
   ]
  },
  {
   "cell_type": "code",
   "execution_count": 19,
   "id": "4519d4ba-bcd5-41f6-8fa4-70982e2c9631",
   "metadata": {},
   "outputs": [
    {
     "name": "stdout",
     "output_type": "stream",
     "text": [
      "[2.29013009 2.61028646 2.11509647 2.94193108 2.13234835 2.97897131]\n"
     ]
    }
   ],
   "source": [
    "print(rand_floats_betn_2_3)"
   ]
  },
  {
   "cell_type": "code",
   "execution_count": 20,
   "id": "692e8178-579e-4c40-a7b9-aeaffb175b42",
   "metadata": {},
   "outputs": [
    {
     "name": "stdout",
     "output_type": "stream",
     "text": [
      "[[294 294 180 174 291 201 180 174 201 207]\n",
      " [195 249 159 294 294 186 273 153 225 189]\n",
      " [261 204 255 246 297 258 183 264 156 261]\n",
      " [270 294 252 177 261 171 192 249 159 258]\n",
      " [243 162 198 210 294 159 180 276 156 270]\n",
      " [198 243 186 225 165 228 180 282 213 201]]\n"
     ]
    }
   ],
   "source": [
    "rand_ints_betn_150_300 = rand_ints * 3\n",
    "print(rand_ints_betn_150_300)"
   ]
  },
  {
   "cell_type": "code",
   "execution_count": null,
   "id": "234a1080-71f7-4c53-a56d-4b2d18c69ad5",
   "metadata": {},
   "outputs": [],
   "source": []
  }
 ],
 "metadata": {
  "kernelspec": {
   "display_name": "Python 3 (ipykernel)",
   "language": "python",
   "name": "python3"
  },
  "language_info": {
   "codemirror_mode": {
    "name": "ipython",
    "version": 3
   },
   "file_extension": ".py",
   "mimetype": "text/x-python",
   "name": "python",
   "nbconvert_exporter": "python",
   "pygments_lexer": "ipython3",
   "version": "3.12.7"
  }
 },
 "nbformat": 4,
 "nbformat_minor": 5
}
