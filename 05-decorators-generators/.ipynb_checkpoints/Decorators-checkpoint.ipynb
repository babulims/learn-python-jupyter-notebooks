{
 "cells": [
  {
   "cell_type": "markdown",
   "id": "39a086d1-7548-41bd-9d94-41e0fa6a23ae",
   "metadata": {},
   "source": [
    "## Python Decorators"
   ]
  },
  {
   "cell_type": "code",
   "execution_count": 1,
   "id": "9f2c84ab-c2f4-4f95-9c02-8eb4d21ed22a",
   "metadata": {},
   "outputs": [],
   "source": [
    "def new_decorator(original_func):\n",
    "    def wrap_func():\n",
    "        print(\"Some new code before original func\")\n",
    "        original_func()\n",
    "        print(\"Some new code after original func\")\n",
    "\n",
    "    return wrap_func"
   ]
  },
  {
   "cell_type": "code",
   "execution_count": 2,
   "id": "f18580d4-7bcb-4b6b-9d1e-75e5dc2fb2ca",
   "metadata": {},
   "outputs": [],
   "source": [
    "def my_func():\n",
    "    print(\"I need to be decorated!!\")"
   ]
  },
  {
   "cell_type": "code",
   "execution_count": 3,
   "id": "80804964-2afa-4ccc-930d-08f5c4f9dbfd",
   "metadata": {},
   "outputs": [
    {
     "name": "stdout",
     "output_type": "stream",
     "text": [
      "I need to be decorated!!\n"
     ]
    }
   ],
   "source": [
    "my_func()"
   ]
  },
  {
   "cell_type": "code",
   "execution_count": 4,
   "id": "020cf6f6-2d6b-4b33-b7b0-a2961ec2390f",
   "metadata": {},
   "outputs": [
    {
     "data": {
      "text/plain": [
       "<function __main__.new_decorator.<locals>.wrap_func()>"
      ]
     },
     "execution_count": 4,
     "metadata": {},
     "output_type": "execute_result"
    }
   ],
   "source": [
    "new_decorator(my_func)"
   ]
  },
  {
   "cell_type": "code",
   "execution_count": 5,
   "id": "8c05eaf8-19d0-42d4-b37f-6c61a8655a1f",
   "metadata": {},
   "outputs": [],
   "source": [
    "ret = new_decorator(my_func)"
   ]
  },
  {
   "cell_type": "code",
   "execution_count": 6,
   "id": "304f3050-77a1-4441-ae0c-144b0cfc767a",
   "metadata": {},
   "outputs": [
    {
     "name": "stdout",
     "output_type": "stream",
     "text": [
      "Some new code before original func\n",
      "I need to be decorated!!\n",
      "Some new code after original func\n"
     ]
    }
   ],
   "source": [
    "ret()"
   ]
  },
  {
   "cell_type": "code",
   "execution_count": 7,
   "id": "4874b60c-f3f5-409b-86c3-8de730aab9c6",
   "metadata": {},
   "outputs": [],
   "source": [
    "@new_decorator\n",
    "def my_func():\n",
    "    print(\"I need to be decorated!!\")"
   ]
  },
  {
   "cell_type": "code",
   "execution_count": 8,
   "id": "1907efb4-6cc3-4a8b-abec-8e2c49f23cac",
   "metadata": {},
   "outputs": [
    {
     "name": "stdout",
     "output_type": "stream",
     "text": [
      "Some new code before original func\n",
      "I need to be decorated!!\n",
      "Some new code after original func\n"
     ]
    }
   ],
   "source": [
    "my_func()"
   ]
  },
  {
   "cell_type": "code",
   "execution_count": null,
   "id": "18c144c9-628b-4362-b3e5-5b72ba9fefdf",
   "metadata": {},
   "outputs": [],
   "source": []
  }
 ],
 "metadata": {
  "kernelspec": {
   "display_name": "Python 3 (ipykernel)",
   "language": "python",
   "name": "python3"
  },
  "language_info": {
   "codemirror_mode": {
    "name": "ipython",
    "version": 3
   },
   "file_extension": ".py",
   "mimetype": "text/x-python",
   "name": "python",
   "nbconvert_exporter": "python",
   "pygments_lexer": "ipython3",
   "version": "3.12.7"
  }
 },
 "nbformat": 4,
 "nbformat_minor": 5
}
