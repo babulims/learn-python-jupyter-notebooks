{
 "cells": [
  {
   "cell_type": "code",
   "execution_count": 1,
   "id": "f569b1d6-5d3a-42d7-8a37-2238a3ff0ae2",
   "metadata": {},
   "outputs": [],
   "source": [
    "def sphere_vol(rad):\n",
    "    return (4 * 3.14 * (rad ** 3)) / 3"
   ]
  },
  {
   "cell_type": "code",
   "execution_count": 2,
   "id": "6a257bc4-2950-4844-aac9-17439b3b33e1",
   "metadata": {},
   "outputs": [
    {
     "data": {
      "text/plain": [
       "33.49333333333333"
      ]
     },
     "execution_count": 2,
     "metadata": {},
     "output_type": "execute_result"
    }
   ],
   "source": [
    "sphere_vol(2)"
   ]
  },
  {
   "cell_type": "code",
   "execution_count": 3,
   "id": "1139e9a7-b115-4b70-8c23-ca7c2bcbcd3a",
   "metadata": {},
   "outputs": [],
   "source": [
    "def ran_bool(num, low, high):\n",
    "    return num >= low and num <= high"
   ]
  },
  {
   "cell_type": "code",
   "execution_count": 4,
   "id": "4b6345a2-a6e9-4e22-af3e-ba90cfad6da2",
   "metadata": {},
   "outputs": [
    {
     "data": {
      "text/plain": [
       "True"
      ]
     },
     "execution_count": 4,
     "metadata": {},
     "output_type": "execute_result"
    }
   ],
   "source": [
    "ran_bool(5, 2, 7)"
   ]
  },
  {
   "cell_type": "code",
   "execution_count": 9,
   "id": "eee18a73-7a01-4b38-a3fa-038ebd199217",
   "metadata": {},
   "outputs": [],
   "source": [
    "def up_low(s):\n",
    "    upper_counter = 0\n",
    "    lower_counter = 0\n",
    "\n",
    "    for letter in s:\n",
    "        if letter.isupper():\n",
    "            upper_counter += 1\n",
    "        elif letter.islower():\n",
    "            lower_counter += 1\n",
    "\n",
    "    print('No. of Upper case characters : {}'.format(upper_counter))\n",
    "    print('No. of Lower case characters : {}'.format(lower_counter))"
   ]
  },
  {
   "cell_type": "code",
   "execution_count": 10,
   "id": "5e19a59a-0f38-4ce5-b007-939fcdcaa53e",
   "metadata": {},
   "outputs": [
    {
     "name": "stdout",
     "output_type": "stream",
     "text": [
      "No. of Upper case characters : 4\n",
      "No. of Lower case characters : 33\n"
     ]
    }
   ],
   "source": [
    "up_low('Hello Mr. Rogers, how are you this fine Tuesday?')"
   ]
  },
  {
   "cell_type": "code",
   "execution_count": 13,
   "id": "d1c0464c-e033-4722-b017-c26653af32f6",
   "metadata": {},
   "outputs": [],
   "source": [
    "def unique_list(lst):\n",
    "    return list(set(lst))"
   ]
  },
  {
   "cell_type": "code",
   "execution_count": 14,
   "id": "d291118b-1025-4f5e-bd27-441541fdfe29",
   "metadata": {},
   "outputs": [
    {
     "data": {
      "text/plain": [
       "[1, 2, 3, 4, 5]"
      ]
     },
     "execution_count": 14,
     "metadata": {},
     "output_type": "execute_result"
    }
   ],
   "source": [
    "unique_list([1,1,1,1,2,2,3,3,3,3,4,5])"
   ]
  },
  {
   "cell_type": "code",
   "execution_count": 28,
   "id": "51a6370c-342e-4dc4-babf-1285aca029b7",
   "metadata": {},
   "outputs": [],
   "source": [
    "def palindrome(s):\n",
    "    sr = s.replace(' ', '')\n",
    "    return sr == sr[::-1]"
   ]
  },
  {
   "cell_type": "code",
   "execution_count": 29,
   "id": "a4eaeb51-54cf-493e-8b32-c76ee6026045",
   "metadata": {},
   "outputs": [
    {
     "data": {
      "text/plain": [
       "True"
      ]
     },
     "execution_count": 29,
     "metadata": {},
     "output_type": "execute_result"
    }
   ],
   "source": [
    "palindrome('helleh')"
   ]
  },
  {
   "cell_type": "code",
   "execution_count": 30,
   "id": "fbe85db6-5b6c-4a20-8948-a1ace8febd99",
   "metadata": {},
   "outputs": [
    {
     "data": {
      "text/plain": [
       "True"
      ]
     },
     "execution_count": 30,
     "metadata": {},
     "output_type": "execute_result"
    }
   ],
   "source": [
    "palindrome('nurses run')"
   ]
  },
  {
   "cell_type": "code",
   "execution_count": 31,
   "id": "ce176bde-52af-4145-addb-b8718552c0fd",
   "metadata": {},
   "outputs": [
    {
     "data": {
      "text/plain": [
       "True"
      ]
     },
     "execution_count": 31,
     "metadata": {},
     "output_type": "execute_result"
    }
   ],
   "source": [
    "palindrome('madam')"
   ]
  },
  {
   "cell_type": "code",
   "execution_count": 33,
   "id": "026cd99a-62d7-42e3-b6b6-3e9b893ee8d0",
   "metadata": {},
   "outputs": [
    {
     "data": {
      "text/plain": [
       "False"
      ]
     },
     "execution_count": 33,
     "metadata": {},
     "output_type": "execute_result"
    }
   ],
   "source": [
    "palindrome('Babuli Mohan Sethi')"
   ]
  },
  {
   "cell_type": "code",
   "execution_count": 64,
   "id": "3bc70817-f9b4-4bb0-80d6-2352589ff788",
   "metadata": {},
   "outputs": [],
   "source": [
    "import string\n",
    "\n",
    "def ispangram(str1, alphabet=string.ascii_lowercase):\n",
    "    str_new = str1.replace(' ', '')\n",
    "    lst = list(alphabet)\n",
    "    for letter in str_new:\n",
    "        if letter in lst:\n",
    "            lst.pop(lst.index(letter))\n",
    "\n",
    "    return len(lst) == 0    "
   ]
  },
  {
   "cell_type": "code",
   "execution_count": 66,
   "id": "655168a1-1338-4829-ae0a-b94b589d43c8",
   "metadata": {},
   "outputs": [
    {
     "data": {
      "text/plain": [
       "True"
      ]
     },
     "execution_count": 66,
     "metadata": {},
     "output_type": "execute_result"
    }
   ],
   "source": [
    "ispangram('The quick brown fox jumps over the lazy dog')"
   ]
  },
  {
   "cell_type": "code",
   "execution_count": 67,
   "id": "7d8c8188-c78c-4119-b3bc-aacb12c791f1",
   "metadata": {},
   "outputs": [
    {
     "data": {
      "text/plain": [
       "False"
      ]
     },
     "execution_count": 67,
     "metadata": {},
     "output_type": "execute_result"
    }
   ],
   "source": [
    "ispangram('The brown fox jumps over the lazy dog')"
   ]
  },
  {
   "cell_type": "code",
   "execution_count": 69,
   "id": "aef7758e-7415-4b52-a52e-cd7bfaa2cae5",
   "metadata": {},
   "outputs": [
    {
     "data": {
      "text/plain": [
       "True"
      ]
     },
     "execution_count": 69,
     "metadata": {},
     "output_type": "execute_result"
    }
   ],
   "source": [
    "set(['a', 'b', 'c']) == set(['c', 'a', 'b'])"
   ]
  },
  {
   "cell_type": "code",
   "execution_count": 71,
   "id": "b8414bf4-6aa4-46a5-b88d-30c4054a1592",
   "metadata": {},
   "outputs": [
    {
     "data": {
      "text/plain": [
       "True"
      ]
     },
     "execution_count": 71,
     "metadata": {},
     "output_type": "execute_result"
    }
   ],
   "source": [
    "{1, 3, 4} == {3, 4, 1}"
   ]
  },
  {
   "cell_type": "code",
   "execution_count": null,
   "id": "e614578c-830b-4c39-b082-f6a264a26fe6",
   "metadata": {},
   "outputs": [],
   "source": []
  }
 ],
 "metadata": {
  "kernelspec": {
   "display_name": "Python 3 (ipykernel)",
   "language": "python",
   "name": "python3"
  },
  "language_info": {
   "codemirror_mode": {
    "name": "ipython",
    "version": 3
   },
   "file_extension": ".py",
   "mimetype": "text/x-python",
   "name": "python",
   "nbconvert_exporter": "python",
   "pygments_lexer": "ipython3",
   "version": "3.12.7"
  }
 },
 "nbformat": 4,
 "nbformat_minor": 5
}
