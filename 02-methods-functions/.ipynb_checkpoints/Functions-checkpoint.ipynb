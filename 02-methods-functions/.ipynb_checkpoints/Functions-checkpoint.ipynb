{
 "cells": [
  {
   "cell_type": "markdown",
   "id": "2103e384-ceca-42ec-a03b-6f4a1ad8742c",
   "metadata": {},
   "source": [
    "## Methods - Predefined methods in Python\n",
    "\n",
    "## Functions - Userdefined function of repeatable code blocks"
   ]
  },
  {
   "cell_type": "code",
   "execution_count": 1,
   "id": "b4cf054c-a9e2-408c-ace4-fcb11d64cb95",
   "metadata": {},
   "outputs": [],
   "source": [
    "def add_function(num1, num2):\n",
    "    return num1 + num2"
   ]
  },
  {
   "cell_type": "code",
   "execution_count": 2,
   "id": "1d1fc0dc-a7c2-44bc-8f0e-00fe9c67df39",
   "metadata": {},
   "outputs": [],
   "source": [
    "num = add_function(1, 5)"
   ]
  },
  {
   "cell_type": "code",
   "execution_count": 3,
   "id": "b9a80360-ef98-4b7e-a1e5-89e358db8f3f",
   "metadata": {},
   "outputs": [
    {
     "data": {
      "text/plain": [
       "6"
      ]
     },
     "execution_count": 3,
     "metadata": {},
     "output_type": "execute_result"
    }
   ],
   "source": [
    "num"
   ]
  },
  {
   "cell_type": "markdown",
   "id": "ea17d848-5c92-4282-b3cf-4e9bb3b1533f",
   "metadata": {},
   "source": [
    "## Tuple unpacking in Functions"
   ]
  },
  {
   "cell_type": "code",
   "execution_count": 6,
   "id": "d4d830f7-1210-4e02-9434-3da18a9249e4",
   "metadata": {},
   "outputs": [],
   "source": [
    "work_hours = [('Abby',100), ('Billy',4000), ('Cassie',800)]\n",
    "\n",
    "def employee_check(work_hours):\n",
    "    current_max = 0\n",
    "    employee_of_month = ''\n",
    "\n",
    "    for employee, hours in work_hours:\n",
    "        if hours > current_max:\n",
    "            current_max = hours\n",
    "            employee_of_month = employee\n",
    "\n",
    "    return (employee_of_month, current_max)"
   ]
  },
  {
   "cell_type": "code",
   "execution_count": 7,
   "id": "43542bb6-ec37-4b71-befa-af3f38ae8ef7",
   "metadata": {},
   "outputs": [
    {
     "data": {
      "text/plain": [
       "('Billy', 4000)"
      ]
     },
     "execution_count": 7,
     "metadata": {},
     "output_type": "execute_result"
    }
   ],
   "source": [
    "employee_check(work_hours)"
   ]
  },
  {
   "cell_type": "code",
   "execution_count": 8,
   "id": "6f7ed26c-8859-49f8-bc0f-a4fbcc744a1d",
   "metadata": {},
   "outputs": [],
   "source": [
    "result = employee_check(work_hours)"
   ]
  },
  {
   "cell_type": "code",
   "execution_count": 9,
   "id": "2270b1ea-9487-48fa-b5cf-1bd3e73fbe39",
   "metadata": {},
   "outputs": [
    {
     "data": {
      "text/plain": [
       "('Billy', 4000)"
      ]
     },
     "execution_count": 9,
     "metadata": {},
     "output_type": "execute_result"
    }
   ],
   "source": [
    "result"
   ]
  },
  {
   "cell_type": "code",
   "execution_count": 10,
   "id": "0374bcd0-c659-4969-a86f-98031dfa14f8",
   "metadata": {},
   "outputs": [],
   "source": [
    "name,hours = employee_check(work_hours)"
   ]
  },
  {
   "cell_type": "code",
   "execution_count": 11,
   "id": "3705d2ab-6bef-4142-8031-5069320c8fb2",
   "metadata": {},
   "outputs": [
    {
     "data": {
      "text/plain": [
       "'Billy'"
      ]
     },
     "execution_count": 11,
     "metadata": {},
     "output_type": "execute_result"
    }
   ],
   "source": [
    "name"
   ]
  },
  {
   "cell_type": "code",
   "execution_count": 12,
   "id": "45ba7bec-a392-4365-bc0e-8345f16d2ccc",
   "metadata": {},
   "outputs": [
    {
     "data": {
      "text/plain": [
       "4000"
      ]
     },
     "execution_count": 12,
     "metadata": {},
     "output_type": "execute_result"
    }
   ],
   "source": [
    "hours"
   ]
  },
  {
   "cell_type": "markdown",
   "id": "470df07a-19b0-4a04-af26-1d12674ef9d3",
   "metadata": {},
   "source": [
    "## *args - arguments\n",
    "\n",
    "## **kwargs - key word arguments"
   ]
  },
  {
   "cell_type": "code",
   "execution_count": 17,
   "id": "7856642e-f22f-414b-a3c5-3f2ee6c9ae59",
   "metadata": {},
   "outputs": [],
   "source": [
    "# Retun the 5% of the sum of all values passed\n",
    "\n",
    "def check_percentage(a, b, c, d = 0, e = 0, f = 0):\n",
    "    return (sum((a, b, c, d, e, f))) * 0.05"
   ]
  },
  {
   "cell_type": "code",
   "execution_count": 18,
   "id": "6f21fc9c-eb58-4c86-a9a4-fdaf5e18f3ef",
   "metadata": {},
   "outputs": [
    {
     "data": {
      "text/plain": [
       "3.0"
      ]
     },
     "execution_count": 18,
     "metadata": {},
     "output_type": "execute_result"
    }
   ],
   "source": [
    "check_percentage(10, 20, 30)"
   ]
  },
  {
   "cell_type": "code",
   "execution_count": 19,
   "id": "962dd4ca-7b1c-431f-a62e-337f06f9f141",
   "metadata": {},
   "outputs": [
    {
     "data": {
      "text/plain": [
       "7.5"
      ]
     },
     "execution_count": 19,
     "metadata": {},
     "output_type": "execute_result"
    }
   ],
   "source": [
    "check_percentage(10, 20, 30, 40, 50)"
   ]
  },
  {
   "cell_type": "code",
   "execution_count": 20,
   "id": "a23b1d9b-cea6-4db0-8300-add709ad935a",
   "metadata": {},
   "outputs": [
    {
     "data": {
      "text/plain": [
       "10.5"
      ]
     },
     "execution_count": 20,
     "metadata": {},
     "output_type": "execute_result"
    }
   ],
   "source": [
    "check_percentage(10, 20, 30, 40, 50, 60)"
   ]
  },
  {
   "cell_type": "code",
   "execution_count": 21,
   "id": "663c3118-0bf1-4820-b890-51e742535d0a",
   "metadata": {},
   "outputs": [
    {
     "ename": "TypeError",
     "evalue": "check_percentage() takes from 3 to 6 positional arguments but 7 were given",
     "output_type": "error",
     "traceback": [
      "\u001b[1;31m---------------------------------------------------------------------------\u001b[0m",
      "\u001b[1;31mTypeError\u001b[0m                                 Traceback (most recent call last)",
      "Cell \u001b[1;32mIn[21], line 1\u001b[0m\n\u001b[1;32m----> 1\u001b[0m check_percentage(\u001b[38;5;241m10\u001b[39m, \u001b[38;5;241m20\u001b[39m, \u001b[38;5;241m30\u001b[39m, \u001b[38;5;241m40\u001b[39m, \u001b[38;5;241m50\u001b[39m, \u001b[38;5;241m60\u001b[39m, \u001b[38;5;241m70\u001b[39m)\n",
      "\u001b[1;31mTypeError\u001b[0m: check_percentage() takes from 3 to 6 positional arguments but 7 were given"
     ]
    }
   ],
   "source": [
    "check_percentage(10, 20, 30, 40, 50, 60, 70)"
   ]
  },
  {
   "cell_type": "code",
   "execution_count": 22,
   "id": "3a82c6e1-b45f-4ea7-b694-56e7542282ca",
   "metadata": {},
   "outputs": [],
   "source": [
    "# Retun the 5% of the sum of all values passed\n",
    "\n",
    "def myfunc(*nums):\n",
    "    return (sum(nums)) * 0.05"
   ]
  },
  {
   "cell_type": "code",
   "execution_count": 23,
   "id": "c558de09-8dc7-4c87-87ea-b7392c6838a2",
   "metadata": {},
   "outputs": [
    {
     "data": {
      "text/plain": [
       "5.0"
      ]
     },
     "execution_count": 23,
     "metadata": {},
     "output_type": "execute_result"
    }
   ],
   "source": [
    "myfunc(10, 20, 30, 40)"
   ]
  },
  {
   "cell_type": "code",
   "execution_count": 24,
   "id": "b981f394-1ac5-4663-a205-9ca9102f58ad",
   "metadata": {},
   "outputs": [
    {
     "data": {
      "text/plain": [
       "14.0"
      ]
     },
     "execution_count": 24,
     "metadata": {},
     "output_type": "execute_result"
    }
   ],
   "source": [
    "myfunc(10, 20, 30, 40, 50, 60, 70)"
   ]
  },
  {
   "cell_type": "code",
   "execution_count": 25,
   "id": "0b580778-d10e-4a97-978f-9478ee65cc10",
   "metadata": {},
   "outputs": [
    {
     "data": {
      "text/plain": [
       "22.5"
      ]
     },
     "execution_count": 25,
     "metadata": {},
     "output_type": "execute_result"
    }
   ],
   "source": [
    "myfunc(10, 20, 30, 40, 50, 60, 70, 80, 90)"
   ]
  },
  {
   "cell_type": "code",
   "execution_count": 36,
   "id": "26daa939-bacd-438e-a39e-0bb9107da67f",
   "metadata": {},
   "outputs": [],
   "source": [
    "def myfunc2(**kwargs):\n",
    "    for key, val in kwargs.items():\n",
    "        print(key, val)"
   ]
  },
  {
   "cell_type": "code",
   "execution_count": 37,
   "id": "b933f81a-896c-49a7-9338-1069e50e91d4",
   "metadata": {},
   "outputs": [
    {
     "name": "stdout",
     "output_type": "stream",
     "text": [
      "key1 10\n",
      "key2 20\n",
      "key3 30\n",
      "key4 40\n"
     ]
    }
   ],
   "source": [
    "myfunc2(key1 = 10, key2 = 20, key3 = 30, key4 = 40)"
   ]
  },
  {
   "cell_type": "code",
   "execution_count": 38,
   "id": "b5ecafe1-afe6-46b2-b907-ce578061a357",
   "metadata": {},
   "outputs": [],
   "source": [
    "def myfunc3(*nums, **cats):\n",
    "    print('I would like {} {}'.format(nums[1], cats['food']))"
   ]
  },
  {
   "cell_type": "code",
   "execution_count": 39,
   "id": "04831619-09e0-4ffb-abdd-e82cddb52829",
   "metadata": {},
   "outputs": [
    {
     "name": "stdout",
     "output_type": "stream",
     "text": [
      "I would like 20 eggs\n"
     ]
    }
   ],
   "source": [
    "myfunc3(10, 20, 30, fruit = 'Oranges', food = 'eggs', animal = 'horses')"
   ]
  },
  {
   "cell_type": "markdown",
   "id": "32e634a2-a1f4-47c8-b774-583ec8200a64",
   "metadata": {},
   "source": [
    "## Function Practice Excercises"
   ]
  },
  {
   "cell_type": "code",
   "execution_count": 40,
   "id": "8e19c1fa-d3e2-4788-b5cd-695faa838c24",
   "metadata": {},
   "outputs": [],
   "source": [
    "def lesser_of_two_events(a,b):\n",
    "    if (a%2 + b%2) == 0:\n",
    "        return min(a,b)\n",
    "    else:\n",
    "        return max(a,b)"
   ]
  },
  {
   "cell_type": "code",
   "execution_count": 41,
   "id": "e9c5382e-ad1e-4801-8194-8d4e1455d788",
   "metadata": {},
   "outputs": [
    {
     "data": {
      "text/plain": [
       "2"
      ]
     },
     "execution_count": 41,
     "metadata": {},
     "output_type": "execute_result"
    }
   ],
   "source": [
    "lesser_of_two_events(2, 4)"
   ]
  },
  {
   "cell_type": "code",
   "execution_count": 42,
   "id": "9553e6de-6c59-4253-98e6-447569ffa33e",
   "metadata": {},
   "outputs": [
    {
     "data": {
      "text/plain": [
       "5"
      ]
     },
     "execution_count": 42,
     "metadata": {},
     "output_type": "execute_result"
    }
   ],
   "source": [
    "lesser_of_two_events(2, 5)"
   ]
  },
  {
   "cell_type": "code",
   "execution_count": 65,
   "id": "5fe65905-5c87-4b35-848a-bc364c9724d9",
   "metadata": {},
   "outputs": [],
   "source": [
    "def master_yoda(text):\n",
    "    words = text.split()\n",
    "    reversed = words[::-1]\n",
    "    return ' '.join(reversed)"
   ]
  },
  {
   "cell_type": "code",
   "execution_count": 67,
   "id": "86bdfaa2-3b67-4651-a75d-f07bb973285e",
   "metadata": {},
   "outputs": [
    {
     "data": {
      "text/plain": [
       "'home am I'"
      ]
     },
     "execution_count": 67,
     "metadata": {},
     "output_type": "execute_result"
    }
   ],
   "source": [
    "master_yoda('I am home')"
   ]
  },
  {
   "cell_type": "code",
   "execution_count": 68,
   "id": "efce159e-4cc1-4fa2-8e84-4b8e49b06d6e",
   "metadata": {},
   "outputs": [],
   "source": [
    "def has_33(nums):\n",
    "    for i in range(len(nums)):\n",
    "        if nums[i] == 3 and i < len(nums) - 1 and nums[i + 1] == 3:\n",
    "            return True\n",
    "\n",
    "    return False"
   ]
  },
  {
   "cell_type": "code",
   "execution_count": 69,
   "id": "23da082a-c9dd-4e24-b662-0c7a9d39cca3",
   "metadata": {},
   "outputs": [
    {
     "data": {
      "text/plain": [
       "True"
      ]
     },
     "execution_count": 69,
     "metadata": {},
     "output_type": "execute_result"
    }
   ],
   "source": [
    "has_33([1,3,3])"
   ]
  },
  {
   "cell_type": "code",
   "execution_count": 70,
   "id": "87a7a015-3024-4248-9952-14e281c8587d",
   "metadata": {},
   "outputs": [
    {
     "data": {
      "text/plain": [
       "False"
      ]
     },
     "execution_count": 70,
     "metadata": {},
     "output_type": "execute_result"
    }
   ],
   "source": [
    "has_33([1,3,1,3])"
   ]
  },
  {
   "cell_type": "code",
   "execution_count": 71,
   "id": "1ffcb7f5-3b89-4c7a-bce0-3cb11ed02791",
   "metadata": {},
   "outputs": [
    {
     "data": {
      "text/plain": [
       "False"
      ]
     },
     "execution_count": 71,
     "metadata": {},
     "output_type": "execute_result"
    }
   ],
   "source": [
    "has_33([3,1,3])"
   ]
  },
  {
   "cell_type": "code",
   "execution_count": 72,
   "id": "093d5eb8-a065-44e1-a4ab-6376ae8e7ba7",
   "metadata": {},
   "outputs": [
    {
     "data": {
      "text/plain": [
       "True"
      ]
     },
     "execution_count": 72,
     "metadata": {},
     "output_type": "execute_result"
    }
   ],
   "source": [
    "has_33([3,3,1,2])"
   ]
  },
  {
   "cell_type": "code",
   "execution_count": 73,
   "id": "c716febe-e3f4-49e9-bfd0-062502f2238e",
   "metadata": {},
   "outputs": [],
   "source": [
    "def paper_doll(text):\n",
    "    result = ''\n",
    "    for char in text:\n",
    "        result += char * 3\n",
    "\n",
    "    return result"
   ]
  },
  {
   "cell_type": "code",
   "execution_count": 74,
   "id": "9af18623-fe35-407a-9970-932b8c89b9c7",
   "metadata": {},
   "outputs": [
    {
     "data": {
      "text/plain": [
       "'HHHeeellllllooo'"
      ]
     },
     "execution_count": 74,
     "metadata": {},
     "output_type": "execute_result"
    }
   ],
   "source": [
    "paper_doll('Hello')"
   ]
  },
  {
   "cell_type": "code",
   "execution_count": 75,
   "id": "4354c508-216b-4231-92b1-d57435192e63",
   "metadata": {},
   "outputs": [
    {
     "data": {
      "text/plain": [
       "'MMMiiissssssiiissssssiiippppppiii'"
      ]
     },
     "execution_count": 75,
     "metadata": {},
     "output_type": "execute_result"
    }
   ],
   "source": [
    "paper_doll('Mississippi')"
   ]
  },
  {
   "cell_type": "code",
   "execution_count": null,
   "id": "c2a671ce-2bfc-4ae4-93c1-4560b2b8f460",
   "metadata": {},
   "outputs": [],
   "source": []
  }
 ],
 "metadata": {
  "kernelspec": {
   "display_name": "Python 3 (ipykernel)",
   "language": "python",
   "name": "python3"
  },
  "language_info": {
   "codemirror_mode": {
    "name": "ipython",
    "version": 3
   },
   "file_extension": ".py",
   "mimetype": "text/x-python",
   "name": "python",
   "nbconvert_exporter": "python",
   "pygments_lexer": "ipython3",
   "version": "3.12.7"
  }
 },
 "nbformat": 4,
 "nbformat_minor": 5
}
