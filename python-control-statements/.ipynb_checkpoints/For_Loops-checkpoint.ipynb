{
 "cells": [
  {
   "cell_type": "code",
   "execution_count": 1,
   "id": "ac7b6a00-a7a0-4ac1-8f65-92b0a23007c3",
   "metadata": {},
   "outputs": [
    {
     "name": "stdout",
     "output_type": "stream",
     "text": [
      "Babuli\n",
      "Deepu\n",
      "Masa\n"
     ]
    }
   ],
   "source": [
    "my_list = ['Babuli', 'Deepu', 'Masa']\n",
    "\n",
    "for name in my_list:\n",
    "    print(name)"
   ]
  },
  {
   "cell_type": "code",
   "execution_count": 4,
   "id": "db05f259-6681-42d7-b1f7-1c7c965cf5cc",
   "metadata": {},
   "outputs": [
    {
     "name": "stdout",
     "output_type": "stream",
     "text": [
      "sum = 31\n"
     ]
    }
   ],
   "source": [
    "my_list = [1, 9, 10, 11]\n",
    "sums = 0\n",
    "\n",
    "for num in my_list:\n",
    "    sums += num\n",
    "print('sum = {}'.format(sums))"
   ]
  },
  {
   "cell_type": "code",
   "execution_count": 5,
   "id": "0e14e988-30ab-4054-892e-b06ae5ab9424",
   "metadata": {},
   "outputs": [
    {
     "name": "stdout",
     "output_type": "stream",
     "text": [
      "H\n",
      "e\n",
      "l\n",
      "l\n",
      "o\n",
      " \n",
      "W\n",
      "o\n",
      "r\n",
      "l\n",
      "d\n"
     ]
    }
   ],
   "source": [
    "message = 'Hello World'\n",
    "\n",
    "for char in message:\n",
    "    print(char)"
   ]
  },
  {
   "cell_type": "code",
   "execution_count": 6,
   "id": "3a5a10e8-d2ab-4313-bb43-8e97fa8a430e",
   "metadata": {},
   "outputs": [
    {
     "name": "stdout",
     "output_type": "stream",
     "text": [
      "(1, 2)\n",
      "(3, 4)\n",
      "(5, 6)\n",
      "(7, 8)\n"
     ]
    }
   ],
   "source": [
    "my_list = [(1, 2), (3, 4), (5, 6), (7, 8)]\n",
    "\n",
    "for tup in my_list:\n",
    "    print(tup)"
   ]
  },
  {
   "cell_type": "code",
   "execution_count": 7,
   "id": "a0e4f9ea-d926-4fb2-a548-a03fb68f5061",
   "metadata": {},
   "outputs": [
    {
     "name": "stdout",
     "output_type": "stream",
     "text": [
      "3\n",
      "7\n",
      "11\n",
      "15\n"
     ]
    }
   ],
   "source": [
    "my_list = [(1, 2), (3, 4), (5, 6), (7, 8)]\n",
    "\n",
    "for a,b in my_list:\n",
    "    print(a + b)"
   ]
  },
  {
   "cell_type": "code",
   "execution_count": 8,
   "id": "ad6d9a47-02ce-49bc-9f71-3e718aa7ef73",
   "metadata": {},
   "outputs": [
    {
     "name": "stdout",
     "output_type": "stream",
     "text": [
      "k1\n",
      "1\n",
      "k2\n",
      "2\n",
      "k3\n",
      "3\n"
     ]
    }
   ],
   "source": [
    "d = {'k1': 1, 'k2': 2, 'k3': 3}\n",
    "\n",
    "for key in d:\n",
    "    print(key)\n",
    "    print(d[key])"
   ]
  },
  {
   "cell_type": "code",
   "execution_count": 9,
   "id": "034be0c9-4279-45cc-a0bd-492a8b87e8d0",
   "metadata": {},
   "outputs": [
    {
     "name": "stdout",
     "output_type": "stream",
     "text": [
      "1\n",
      "2\n",
      "3\n"
     ]
    }
   ],
   "source": [
    "for key,val in d.items():\n",
    "    print(val)"
   ]
  },
  {
   "cell_type": "code",
   "execution_count": 10,
   "id": "c85cd763-20bd-4ef8-82a6-2bbf8ec1bfd5",
   "metadata": {},
   "outputs": [
    {
     "name": "stdout",
     "output_type": "stream",
     "text": [
      "1\n",
      "2\n",
      "3\n"
     ]
    }
   ],
   "source": [
    "for val in d.values():\n",
    "    print(val)"
   ]
  },
  {
   "cell_type": "code",
   "execution_count": null,
   "id": "9a7fbea2-2b06-40a9-8e01-0431872bfb4a",
   "metadata": {},
   "outputs": [],
   "source": []
  }
 ],
 "metadata": {
  "kernelspec": {
   "display_name": "Python 3 (ipykernel)",
   "language": "python",
   "name": "python3"
  },
  "language_info": {
   "codemirror_mode": {
    "name": "ipython",
    "version": 3
   },
   "file_extension": ".py",
   "mimetype": "text/x-python",
   "name": "python",
   "nbconvert_exporter": "python",
   "pygments_lexer": "ipython3",
   "version": "3.12.7"
  }
 },
 "nbformat": 4,
 "nbformat_minor": 5
}
