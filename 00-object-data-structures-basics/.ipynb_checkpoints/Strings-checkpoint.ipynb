{
 "cells": [
  {
   "cell_type": "markdown",
   "id": "cf6b9ae0-cae1-401e-8919-8271a51ec8dc",
   "metadata": {},
   "source": [
    "## Basic String characteristics"
   ]
  },
  {
   "cell_type": "code",
   "execution_count": 1,
   "id": "c706cf25-8f86-4ee0-b666-1219f3e6415f",
   "metadata": {},
   "outputs": [
    {
     "data": {
      "text/plain": [
       "'hello'"
      ]
     },
     "execution_count": 1,
     "metadata": {},
     "output_type": "execute_result"
    }
   ],
   "source": [
    "'hello'"
   ]
  },
  {
   "cell_type": "code",
   "execution_count": 2,
   "id": "6b73c9d9-7749-4409-8f86-ad3cdd8bc2c2",
   "metadata": {},
   "outputs": [
    {
     "data": {
      "text/plain": [
       "'Hello'"
      ]
     },
     "execution_count": 2,
     "metadata": {},
     "output_type": "execute_result"
    }
   ],
   "source": [
    "\"Hello\""
   ]
  },
  {
   "cell_type": "code",
   "execution_count": 3,
   "id": "b02b9163-5de5-4808-b8e1-1ee7e02aa996",
   "metadata": {},
   "outputs": [
    {
     "name": "stdout",
     "output_type": "stream",
     "text": [
      "hello\n"
     ]
    }
   ],
   "source": [
    "print('hello')"
   ]
  },
  {
   "cell_type": "code",
   "execution_count": 4,
   "id": "cd9eaa8d-d0e3-4347-998d-84c283799d24",
   "metadata": {},
   "outputs": [
    {
     "name": "stdout",
     "output_type": "stream",
     "text": [
      "Hello 1\n",
      "Hello 2\n"
     ]
    }
   ],
   "source": [
    "print(\"Hello 1\")\n",
    "print('Hello 2')"
   ]
  },
  {
   "cell_type": "code",
   "execution_count": 5,
   "id": "cf416a89-ab45-4bef-962a-3d82aeb5430b",
   "metadata": {},
   "outputs": [
    {
     "name": "stdout",
     "output_type": "stream",
     "text": [
      "Hello \n",
      "World\n"
     ]
    }
   ],
   "source": [
    "print('Hello \\nWorld')"
   ]
  },
  {
   "cell_type": "code",
   "execution_count": 6,
   "id": "20698827-c829-4f0c-a93c-f8f9acab46a0",
   "metadata": {},
   "outputs": [
    {
     "data": {
      "text/plain": [
       "4"
      ]
     },
     "execution_count": 6,
     "metadata": {},
     "output_type": "execute_result"
    }
   ],
   "source": [
    "len('I am')"
   ]
  },
  {
   "cell_type": "markdown",
   "id": "9e8dcf38-2785-4e43-a352-ba22cc7696c1",
   "metadata": {},
   "source": [
    "## String Indexing, String Slicing"
   ]
  },
  {
   "cell_type": "code",
   "execution_count": 7,
   "id": "65d59f5b-3565-4c02-8f4d-509c3fa76020",
   "metadata": {},
   "outputs": [
    {
     "name": "stdout",
     "output_type": "stream",
     "text": [
      "H\n"
     ]
    }
   ],
   "source": [
    "my_string = 'Hello World'\n",
    "print(my_string[0])"
   ]
  },
  {
   "cell_type": "code",
   "execution_count": 8,
   "id": "e5473188-2a6b-4dc8-8782-6bfa1444234b",
   "metadata": {},
   "outputs": [
    {
     "data": {
      "text/plain": [
       "'l'"
      ]
     },
     "execution_count": 8,
     "metadata": {},
     "output_type": "execute_result"
    }
   ],
   "source": [
    "my_string[9]"
   ]
  },
  {
   "cell_type": "code",
   "execution_count": 9,
   "id": "b0abda14-7ed0-4d24-858f-558f92b90e93",
   "metadata": {},
   "outputs": [
    {
     "data": {
      "text/plain": [
       "'d'"
      ]
     },
     "execution_count": 9,
     "metadata": {},
     "output_type": "execute_result"
    }
   ],
   "source": [
    "my_string[-1]"
   ]
  },
  {
   "cell_type": "code",
   "execution_count": 10,
   "id": "98bf9458-8b2b-4de7-b084-8f9a77170ba7",
   "metadata": {},
   "outputs": [
    {
     "data": {
      "text/plain": [
       "'r'"
      ]
     },
     "execution_count": 10,
     "metadata": {},
     "output_type": "execute_result"
    }
   ],
   "source": [
    "my_string[-3]"
   ]
  },
  {
   "cell_type": "code",
   "execution_count": 11,
   "id": "722b8efa-2361-4c15-8f13-6fe1c4fd2ad9",
   "metadata": {},
   "outputs": [
    {
     "data": {
      "text/plain": [
       "'llo World'"
      ]
     },
     "execution_count": 11,
     "metadata": {},
     "output_type": "execute_result"
    }
   ],
   "source": [
    "my_string[2:]"
   ]
  },
  {
   "cell_type": "code",
   "execution_count": 12,
   "id": "59e3bcef-c709-4b70-9ce5-9f775b72fba0",
   "metadata": {},
   "outputs": [],
   "source": [
    "my_string = 'asascsdwsdasfdaf'"
   ]
  },
  {
   "cell_type": "code",
   "execution_count": 13,
   "id": "d385d5d8-ceef-4967-b57d-b80f0e668967",
   "metadata": {},
   "outputs": [
    {
     "data": {
      "text/plain": [
       "'asa'"
      ]
     },
     "execution_count": 13,
     "metadata": {},
     "output_type": "execute_result"
    }
   ],
   "source": [
    "my_string[:3]"
   ]
  },
  {
   "cell_type": "code",
   "execution_count": 14,
   "id": "6e44529b-dbf1-4e8a-a5ae-e3a250da6a01",
   "metadata": {},
   "outputs": [
    {
     "data": {
      "text/plain": [
       "'cs'"
      ]
     },
     "execution_count": 14,
     "metadata": {},
     "output_type": "execute_result"
    }
   ],
   "source": [
    "my_string[4:6]"
   ]
  },
  {
   "cell_type": "code",
   "execution_count": 15,
   "id": "bf2d4bf7-fb68-49cb-9a52-add403502aea",
   "metadata": {},
   "outputs": [
    {
     "data": {
      "text/plain": [
       "'asascsdwsdasfdaf'"
      ]
     },
     "execution_count": 15,
     "metadata": {},
     "output_type": "execute_result"
    }
   ],
   "source": [
    "my_string[:]"
   ]
  },
  {
   "cell_type": "code",
   "execution_count": 18,
   "id": "ed2d5783-5189-44ee-ba74-b5845b9c59af",
   "metadata": {},
   "outputs": [],
   "source": [
    "my_string = 'asdfghjklxcvzbnmqwertyuiop'"
   ]
  },
  {
   "cell_type": "code",
   "execution_count": 19,
   "id": "a3132ac2-e1f5-4127-b345-8d82d5303ae4",
   "metadata": {},
   "outputs": [
    {
     "data": {
      "text/plain": [
       "'asdfghjklxcvzbnmqwertyuiop'"
      ]
     },
     "execution_count": 19,
     "metadata": {},
     "output_type": "execute_result"
    }
   ],
   "source": [
    "my_string[::]"
   ]
  },
  {
   "cell_type": "code",
   "execution_count": 20,
   "id": "b5780bc9-283c-4c0d-9750-fff6687b3a3c",
   "metadata": {},
   "outputs": [
    {
     "data": {
      "text/plain": [
       "'dgj'"
      ]
     },
     "execution_count": 20,
     "metadata": {},
     "output_type": "execute_result"
    }
   ],
   "source": [
    "my_string[2:7:2]"
   ]
  },
  {
   "cell_type": "code",
   "execution_count": 21,
   "id": "2a8e1e17-0745-4de6-a944-38c83b7addbe",
   "metadata": {},
   "outputs": [
    {
     "data": {
      "text/plain": [
       "'adgjlcznqetuo'"
      ]
     },
     "execution_count": 21,
     "metadata": {},
     "output_type": "execute_result"
    }
   ],
   "source": [
    "my_string[::2]"
   ]
  },
  {
   "cell_type": "code",
   "execution_count": 22,
   "id": "e8802a9d-bf2e-4fbb-8bad-29e527f91b69",
   "metadata": {},
   "outputs": [
    {
     "data": {
      "text/plain": [
       "'poiuytrewqmnbzvcxlkjhgfdsa'"
      ]
     },
     "execution_count": 22,
     "metadata": {},
     "output_type": "execute_result"
    }
   ],
   "source": [
    "#Reverse a String\n",
    "my_string[::-1]"
   ]
  },
  {
   "cell_type": "markdown",
   "id": "c7da7bf8-05b9-4a03-b28c-a36a6a61f4fb",
   "metadata": {},
   "source": [
    "## String Properties and Methods"
   ]
  },
  {
   "cell_type": "code",
   "execution_count": 23,
   "id": "858a1345-252d-4c1b-8a91-79913e7d3e76",
   "metadata": {},
   "outputs": [],
   "source": [
    "name = 'Sam'"
   ]
  },
  {
   "cell_type": "code",
   "execution_count": 24,
   "id": "b144134a-d6ab-44d8-b1ed-cdd1de7bf1e0",
   "metadata": {},
   "outputs": [
    {
     "ename": "TypeError",
     "evalue": "'str' object does not support item assignment",
     "output_type": "error",
     "traceback": [
      "\u001b[1;31m---------------------------------------------------------------------------\u001b[0m",
      "\u001b[1;31mTypeError\u001b[0m                                 Traceback (most recent call last)",
      "Cell \u001b[1;32mIn[24], line 1\u001b[0m\n\u001b[1;32m----> 1\u001b[0m name[\u001b[38;5;241m0\u001b[39m] \u001b[38;5;241m=\u001b[39m \u001b[38;5;124m'\u001b[39m\u001b[38;5;124mP\u001b[39m\u001b[38;5;124m'\u001b[39m\n",
      "\u001b[1;31mTypeError\u001b[0m: 'str' object does not support item assignment"
     ]
    }
   ],
   "source": [
    "name[0] = 'P'"
   ]
  },
  {
   "cell_type": "code",
   "execution_count": 25,
   "id": "96230dcb-7b19-4224-a7c3-1fd7178d73d9",
   "metadata": {},
   "outputs": [
    {
     "data": {
      "text/plain": [
       "'Pam'"
      ]
     },
     "execution_count": 25,
     "metadata": {},
     "output_type": "execute_result"
    }
   ],
   "source": [
    "last_letters = name[1:]\n",
    "\n",
    "'P' + last_letters"
   ]
  },
  {
   "cell_type": "code",
   "execution_count": 26,
   "id": "d4fba721-3ff3-443c-a82c-dad1bb2e79fd",
   "metadata": {},
   "outputs": [],
   "source": [
    "letter = 'z'"
   ]
  },
  {
   "cell_type": "code",
   "execution_count": 27,
   "id": "e75db9eb-059c-4030-a2b2-098bc73421fe",
   "metadata": {},
   "outputs": [
    {
     "data": {
      "text/plain": [
       "'zzzzzzzzzz'"
      ]
     },
     "execution_count": 27,
     "metadata": {},
     "output_type": "execute_result"
    }
   ],
   "source": [
    "letter * 10"
   ]
  },
  {
   "cell_type": "code",
   "execution_count": 28,
   "id": "c6cd3709-d565-4a4a-92af-e9871354fb1a",
   "metadata": {},
   "outputs": [
    {
     "data": {
      "text/plain": [
       "5"
      ]
     },
     "execution_count": 28,
     "metadata": {},
     "output_type": "execute_result"
    }
   ],
   "source": [
    "2+3"
   ]
  },
  {
   "cell_type": "code",
   "execution_count": 29,
   "id": "ddbfd05e-09c2-4b62-bb04-efc659e8fd81",
   "metadata": {},
   "outputs": [
    {
     "data": {
      "text/plain": [
       "'23'"
      ]
     },
     "execution_count": 29,
     "metadata": {},
     "output_type": "execute_result"
    }
   ],
   "source": [
    "'2' + '3'"
   ]
  },
  {
   "cell_type": "code",
   "execution_count": 30,
   "id": "ffe88b6f-95e3-47f2-8898-1aab91e536d2",
   "metadata": {},
   "outputs": [
    {
     "data": {
      "text/plain": [
       "'2222222222'"
      ]
     },
     "execution_count": 30,
     "metadata": {},
     "output_type": "execute_result"
    }
   ],
   "source": [
    "'2' * 10"
   ]
  },
  {
   "cell_type": "code",
   "execution_count": 31,
   "id": "3c62507d-d1f8-4d4e-9a69-7084da625620",
   "metadata": {},
   "outputs": [],
   "source": [
    "x = 'Hellow World'"
   ]
  },
  {
   "cell_type": "code",
   "execution_count": 32,
   "id": "9951eb1d-25eb-463c-a222-ddc17f92e1ad",
   "metadata": {},
   "outputs": [
    {
     "data": {
      "text/plain": [
       "'HELLOW WORLD'"
      ]
     },
     "execution_count": 32,
     "metadata": {},
     "output_type": "execute_result"
    }
   ],
   "source": [
    "x.upper()"
   ]
  },
  {
   "cell_type": "code",
   "execution_count": 33,
   "id": "bc1753b1-305f-4c8e-bceb-27e2367ee137",
   "metadata": {},
   "outputs": [
    {
     "data": {
      "text/plain": [
       "'hellow world'"
      ]
     },
     "execution_count": 33,
     "metadata": {},
     "output_type": "execute_result"
    }
   ],
   "source": [
    "x.lower()"
   ]
  },
  {
   "cell_type": "code",
   "execution_count": 34,
   "id": "d24be85e-1ef1-4ab6-a8d6-b357d73cee11",
   "metadata": {},
   "outputs": [
    {
     "data": {
      "text/plain": [
       "['Hellow', 'World']"
      ]
     },
     "execution_count": 34,
     "metadata": {},
     "output_type": "execute_result"
    }
   ],
   "source": [
    "x.split()"
   ]
  },
  {
   "cell_type": "code",
   "execution_count": 35,
   "id": "09044905-a9bd-468e-a703-f9e4e122695b",
   "metadata": {},
   "outputs": [],
   "source": [
    "x = 'Babuli'"
   ]
  },
  {
   "cell_type": "code",
   "execution_count": 36,
   "id": "0be463fb-8a20-4168-a2cc-c4066bfd3c39",
   "metadata": {},
   "outputs": [
    {
     "data": {
      "text/plain": [
       "['Babuli']"
      ]
     },
     "execution_count": 36,
     "metadata": {},
     "output_type": "execute_result"
    }
   ],
   "source": [
    "x.split()"
   ]
  },
  {
   "cell_type": "code",
   "execution_count": 37,
   "id": "ed842b20-57de-4b47-bdb1-846ed63ff993",
   "metadata": {},
   "outputs": [
    {
     "data": {
      "text/plain": [
       "['Babuli']"
      ]
     },
     "execution_count": 37,
     "metadata": {},
     "output_type": "execute_result"
    }
   ],
   "source": [
    "x.split( )"
   ]
  },
  {
   "cell_type": "code",
   "execution_count": 38,
   "id": "c6d01e01-a07d-47f4-816b-d7326d40f489",
   "metadata": {},
   "outputs": [
    {
     "data": {
      "text/plain": [
       "['Ba', 'uli']"
      ]
     },
     "execution_count": 38,
     "metadata": {},
     "output_type": "execute_result"
    }
   ],
   "source": [
    "x.split('b')"
   ]
  },
  {
   "cell_type": "code",
   "execution_count": 39,
   "id": "9bff4445-98df-4332-9dcf-4944e8a4f07a",
   "metadata": {},
   "outputs": [
    {
     "data": {
      "text/plain": [
       "['B', 'a', 'b', 'u', 'l', 'i']"
      ]
     },
     "execution_count": 39,
     "metadata": {},
     "output_type": "execute_result"
    }
   ],
   "source": [
    "list(x)"
   ]
  },
  {
   "cell_type": "markdown",
   "id": "5058fc52-083e-4926-bc92-7f83406a76d0",
   "metadata": {},
   "source": [
    "## Print Formatting with Strings"
   ]
  },
  {
   "cell_type": "code",
   "execution_count": 40,
   "id": "a5736290-358f-4868-876b-1f26296c51f3",
   "metadata": {},
   "outputs": [
    {
     "name": "stdout",
     "output_type": "stream",
     "text": [
      "This is a string INSERTED\n"
     ]
    }
   ],
   "source": [
    "print('This is a string {}'.format('INSERTED'))"
   ]
  },
  {
   "cell_type": "code",
   "execution_count": 41,
   "id": "a18cc3bd-16ad-4b7e-a792-efbec1a1b13f",
   "metadata": {},
   "outputs": [
    {
     "name": "stdout",
     "output_type": "stream",
     "text": [
      "The fox brown quick\n"
     ]
    }
   ],
   "source": [
    "print('The {} {} {}'.format('fox', 'brown', 'quick'))"
   ]
  },
  {
   "cell_type": "code",
   "execution_count": 42,
   "id": "e83982da-45ba-45f8-9846-fbee73d4d50a",
   "metadata": {},
   "outputs": [
    {
     "name": "stdout",
     "output_type": "stream",
     "text": [
      "The quick fox brown\n"
     ]
    }
   ],
   "source": [
    "print('The {2} {0} {1}'.format('fox', 'brown', 'quick'))"
   ]
  },
  {
   "cell_type": "code",
   "execution_count": 43,
   "id": "a52a3e03-c5bb-457a-870d-dc91f406ecc8",
   "metadata": {},
   "outputs": [
    {
     "name": "stdout",
     "output_type": "stream",
     "text": [
      "The brown brown brown\n"
     ]
    }
   ],
   "source": [
    "print('The {1} {1} {1}'.format('fox', 'brown', 'quick'))"
   ]
  },
  {
   "cell_type": "code",
   "execution_count": 44,
   "id": "4f8c86da-fde3-42e6-86f4-ab65c332ff39",
   "metadata": {},
   "outputs": [
    {
     "name": "stdout",
     "output_type": "stream",
     "text": [
      "The brown fox quick\n"
     ]
    }
   ],
   "source": [
    "print('The {b} {f} {q}'.format(f = 'fox', b = 'brown', q = 'quick'))"
   ]
  },
  {
   "cell_type": "code",
   "execution_count": 54,
   "id": "7b7c45f1-5662-43d5-8187-235d7b822017",
   "metadata": {},
   "outputs": [],
   "source": [
    "name = 'Jose'"
   ]
  },
  {
   "cell_type": "code",
   "execution_count": 55,
   "id": "47545804-29d3-40ec-803c-61440509d7be",
   "metadata": {},
   "outputs": [
    {
     "name": "stdout",
     "output_type": "stream",
     "text": [
      "Hello, my name is Jose\n"
     ]
    }
   ],
   "source": [
    "print(\"Hello, my name is {}\".format(name))"
   ]
  },
  {
   "cell_type": "code",
   "execution_count": 56,
   "id": "9101ab88-abfd-44a5-b6cb-e4f99b50081a",
   "metadata": {},
   "outputs": [
    {
     "name": "stdout",
     "output_type": "stream",
     "text": [
      "Hello, my name is Jose\n"
     ]
    }
   ],
   "source": [
    "print(f\"Hello, my name is {name}\")"
   ]
  },
  {
   "cell_type": "code",
   "execution_count": 57,
   "id": "a2b3f49d-b558-4c65-8424-8aadd1c43fbd",
   "metadata": {},
   "outputs": [],
   "source": [
    "age = 3"
   ]
  },
  {
   "cell_type": "code",
   "execution_count": 58,
   "id": "8b78d1c1-9c78-420b-9ba5-dce71c006594",
   "metadata": {},
   "outputs": [
    {
     "name": "stdout",
     "output_type": "stream",
     "text": [
      "Jose is 3 years old\n"
     ]
    }
   ],
   "source": [
    "print(f'{name} is {age} years old')"
   ]
  },
  {
   "cell_type": "markdown",
   "id": "82085e3a-583e-4d33-b820-30be919ee035",
   "metadata": {},
   "source": [
    "## Floating Point Formatting"
   ]
  },
  {
   "cell_type": "code",
   "execution_count": 45,
   "id": "5b5c8796-ed8a-4202-86a6-6270718d9bf9",
   "metadata": {},
   "outputs": [],
   "source": [
    "result = 104.12345"
   ]
  },
  {
   "cell_type": "code",
   "execution_count": 49,
   "id": "4f902982-2708-4fd1-8e9c-87ee49f63037",
   "metadata": {},
   "outputs": [
    {
     "name": "stdout",
     "output_type": "stream",
     "text": [
      "The result was 104.12\n"
     ]
    }
   ],
   "source": [
    "print(\"The result was {r:1.2f}\".format(r = result))"
   ]
  },
  {
   "cell_type": "code",
   "execution_count": 50,
   "id": "d4781b6d-5034-494b-ab27-597d1f4cecb0",
   "metadata": {},
   "outputs": [
    {
     "name": "stdout",
     "output_type": "stream",
     "text": [
      "The result was 104.12\n"
     ]
    }
   ],
   "source": [
    "print(\"The result was {r:.2f}\".format(r = result))"
   ]
  },
  {
   "cell_type": "code",
   "execution_count": 51,
   "id": "c16bd37e-05ca-4abc-b2ed-de2ed66c55b2",
   "metadata": {},
   "outputs": [
    {
     "name": "stdout",
     "output_type": "stream",
     "text": [
      "The result was 104.12\n"
     ]
    }
   ],
   "source": [
    "print(\"The result was {r:0.2f}\".format(r = result))"
   ]
  },
  {
   "cell_type": "code",
   "execution_count": 52,
   "id": "a02f18a3-b9f4-467a-b642-f5766fa41a21",
   "metadata": {},
   "outputs": [
    {
     "name": "stdout",
     "output_type": "stream",
     "text": [
      "The result was 104.123\n"
     ]
    }
   ],
   "source": [
    "print(\"The result was {r:2.3f}\".format(r = result))"
   ]
  },
  {
   "cell_type": "code",
   "execution_count": 53,
   "id": "f4bc3a9a-33bd-4ad1-8c3c-cdd4003d7b77",
   "metadata": {},
   "outputs": [
    {
     "name": "stdout",
     "output_type": "stream",
     "text": [
      "The result was 104.123450\n"
     ]
    }
   ],
   "source": [
    "print(\"The result was {r:2f}\".format(r = result))"
   ]
  },
  {
   "cell_type": "code",
   "execution_count": null,
   "id": "3a95df86-ac48-41b5-b61a-1f3b0dc95bea",
   "metadata": {},
   "outputs": [],
   "source": []
  }
 ],
 "metadata": {
  "kernelspec": {
   "display_name": "Python 3 (ipykernel)",
   "language": "python",
   "name": "python3"
  },
  "language_info": {
   "codemirror_mode": {
    "name": "ipython",
    "version": 3
   },
   "file_extension": ".py",
   "mimetype": "text/x-python",
   "name": "python",
   "nbconvert_exporter": "python",
   "pygments_lexer": "ipython3",
   "version": "3.12.7"
  }
 },
 "nbformat": 4,
 "nbformat_minor": 5
}
